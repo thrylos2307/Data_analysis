{
 "cells": [
  {
   "cell_type": "markdown",
   "metadata": {},
   "source": [
    "# Profitable Apps\n",
    " \n",
    "This is about to finding the number of apps that we can build and are free to use for the users. And the revenue would be generated from the ads as seen by the users ,so the number of users should be more to use that app.\n",
    "\n",
    "We find to build apps that are free to download and install, and our main source of revenue consists of in-app ads. This means our revenue for any given app is mostly influenced by the number of users who use our app — the more users that see and engage with the ads, the better. Our goal for this project is to analyze data to help our developers understand what type of apps are likely to attract more users.\n",
    "\n",
    "\n",
    "The goal is to select apps from the given data which are free and have more number of users.\n"
   ]
  },
  {
   "cell_type": "code",
   "execution_count": 1,
   "metadata": {
    "tags": []
   },
   "outputs": [
    {
     "output_type": "stream",
     "name": "stdout",
     "text": [
      "[['284882215', 'Facebook', '389879808', 'USD', '0.0', '2974676', '212', '3.5', '3.5', '95.0', '4+', 'Social Networking', '37', '1', '29', '1'], ['389801252', 'Instagram', '113954816', 'USD', '0.0', '2161558', '1289', '4.5', '4.0', '10.23', '12+', 'Photo & Video', '37', '0', '29', '1'], ['529479190', 'Clash of Clans', '116476928', 'USD', '0.0', '2130805', '579', '4.5', '4.5', '9.24.12', '9+', 'Games', '38', '5', '18', '1'], ['420009108', 'Temple Run', '65921024', 'USD', '0.0', '1724546', '3842', '4.5', '4.0', '1.6.2', '9+', 'Games', '40', '5', '1', '1'], ['284035177', 'Pandora - Music & Radio', '130242560', 'USD', '0.0', '1126879', '3594', '4.0', '4.5', '8.4.1', '12+', 'Music', '37', '4', '1', '1']]\n"
     ]
    }
   ],
   "source": [
    "#reading the data of IOS Apps from app store\n",
    "file1=open('AppleStore.csv')\n",
    "from csv import reader \n",
    "f1=reader(file1)\n",
    "apple=list(f1)\n",
    "apple=apple[1:]\n",
    "print(apple[:5])"
   ]
  },
  {
   "source": [
    "Google play store apps have following attributes:-\n",
    "* App\t\n",
    "* Category\t\n",
    "* Rating\t\n",
    "* Reviews\t\n",
    "* Size\t\n",
    "* Installs\t\n",
    "* Type\t\n",
    "* Price\t\n",
    "* Content \n",
    "* Rating\t\n",
    "* Genres\t\n",
    "* Last Updated\t\n",
    "* Current Ver\t\n",
    "* Android Ver\n",
    "\n",
    "IOS app store apps have following attributes:-\n",
    "* id\t\n",
    "* track_name\t\n",
    "* size_bytes\t\n",
    "* currency\t\n",
    "* price\t\n",
    "* rating_count_tot\t\n",
    "* rating_count_ver\t\n",
    "* user_rating\t\n",
    "* user_rating_ver\t\n",
    "* ver\t\n",
    "* cont_rating\t\n",
    "* prime_genre\t\n",
    "* sup_devices.num\t\n",
    "* ipadSc_urls.num\t\n",
    "* lang.num\t\n",
    "* vpp_lic\n"
   ],
   "cell_type": "markdown",
   "metadata": {}
  },
  {
   "cell_type": "code",
   "execution_count": 2,
   "metadata": {},
   "outputs": [
    {
     "output_type": "stream",
     "name": "stdout",
     "text": [
      "[['Photo Editor & Candy Camera & Grid & ScrapBook', 'ART_AND_DESIGN', '4.1', '159', '19M', '10,000+', 'Free', '0', 'Everyone', 'Art & Design', 'January 7, 2018', '1.0.0', '4.0.3 and up'], ['Coloring book moana', 'ART_AND_DESIGN', '3.9', '967', '14M', '500,000+', 'Free', '0', 'Everyone', 'Art & Design;Pretend Play', 'January 15, 2018', '2.0.0', '4.0.3 and up'], ['U Launcher Lite – FREE Live Cool Themes, Hide Apps', 'ART_AND_DESIGN', '4.7', '87510', '8.7M', '5,000,000+', 'Free', '0', 'Everyone', 'Art & Design', 'August 1, 2018', '1.2.4', '4.0.3 and up'], ['Sketch - Draw & Paint', 'ART_AND_DESIGN', '4.5', '215644', '25M', '50,000,000+', 'Free', '0', 'Teen', 'Art & Design', 'June 8, 2018', 'Varies with device', '4.2 and up'], ['Pixel Draw - Number Art Coloring Book', 'ART_AND_DESIGN', '4.3', '967', '2.8M', '100,000+', 'Free', '0', 'Everyone', 'Art & Design;Creativity', 'June 20, 2018', '1.1', '4.4 and up']]\n"
     ]
    }
   ],
   "source": [
    "#reading data of android apps form google play\n",
    "file1=open('googleplaystore.csv')\n",
    "from csv import reader \n",
    "f1=reader(file1)\n",
    "google=list(f1)\n",
    "google=google[1:]\n",
    "print(google[:5])"
   ]
  },
  {
   "source": [
    "AS we can see from above data is not much readable ,so we'll start by opening and exploring these two data sets ,we created a function named **explore_data()** that you can repeatedly use to print rows in a readable way.\n",
    "\n"
   ],
   "cell_type": "markdown",
   "metadata": {}
  },
  {
   "cell_type": "code",
   "execution_count": 3,
   "metadata": {
    "collapsed": true
   },
   "outputs": [],
   "source": [
    "def explore_data(dataset, start, end, rows_and_columns=False):\n",
    "    dataset_slice = dataset[start:end]    \n",
    "    for row in dataset_slice:\n",
    "        print(row)\n",
    "        print('\\n') # adds a new (empty) line after each row\n",
    "\n",
    "    if rows_and_columns:\n",
    "        print('Number of rows:', len(dataset))\n",
    "        print('Number of columns:', len(dataset[0]))"
   ]
  },
  {
   "cell_type": "code",
   "execution_count": 4,
   "metadata": {
    "scrolled": true
   },
   "outputs": [
    {
     "output_type": "stream",
     "name": "stdout",
     "text": [
      "Play store apps\n['Photo Editor & Candy Camera & Grid & ScrapBook', 'ART_AND_DESIGN', '4.1', '159', '19M', '10,000+', 'Free', '0', 'Everyone', 'Art & Design', 'January 7, 2018', '1.0.0', '4.0.3 and up']\n\n\n['Coloring book moana', 'ART_AND_DESIGN', '3.9', '967', '14M', '500,000+', 'Free', '0', 'Everyone', 'Art & Design;Pretend Play', 'January 15, 2018', '2.0.0', '4.0.3 and up']\n\n\n['U Launcher Lite – FREE Live Cool Themes, Hide Apps', 'ART_AND_DESIGN', '4.7', '87510', '8.7M', '5,000,000+', 'Free', '0', 'Everyone', 'Art & Design', 'August 1, 2018', '1.2.4', '4.0.3 and up']\n\n\nNumber of rows: 10841\nNumber of columns: 13\n\n\nIOS app store apps\n['284882215', 'Facebook', '389879808', 'USD', '0.0', '2974676', '212', '3.5', '3.5', '95.0', '4+', 'Social Networking', '37', '1', '29', '1']\n\n\n['389801252', 'Instagram', '113954816', 'USD', '0.0', '2161558', '1289', '4.5', '4.0', '10.23', '12+', 'Photo & Video', '37', '0', '29', '1']\n\n\n['529479190', 'Clash of Clans', '116476928', 'USD', '0.0', '2130805', '579', '4.5', '4.5', '9.24.12', '9+', 'Games', '38', '5', '18', '1']\n\n\nNumber of rows: 7197\nNumber of columns: 16\n"
     ]
    }
   ],
   "source": [
    "print(\"Play store apps\")\n",
    "explore_data(google,0,3,True)\n",
    "\n",
    "print(\"\\n\\nIOS app store apps\")\n",
    "explore_data(apple,0,3,True)"
   ]
  },
  {
   "cell_type": "markdown",
   "metadata": {},
   "source": [
    "## Data cleaning\n",
    "Before beginning our analysis, we need to make sure the data we analyze is accurate, otherwise the results of our analysis will be wrong. This means that we need to:\n",
    "\n",
    "* Detect inaccurate data, and correct or remove it.\n",
    "* Detect duplicate data, and remove the duplicates.\n",
    "\n",
    "we only need to focus on apps that are free to download and install, and that are directed toward an English-speaking audience. This means that we'll need to:\n",
    "\n",
    "* Remove non-English apps like 爱奇艺PPS -《欢乐颂2》电视剧热播.\n",
    "* Remove apps that aren't free.\n",
    "\n"
   ]
  },
  {
   "source": [
    "** Removing wrong data **<br>\n",
    "The Google Play data set has a dedicated [discussion section](https://www.kaggle.com/lava18/google-play-store-apps/discussion), and we can see that [one of the discussions](https://www.kaggle.com/lava18/google-play-store-apps/discussion/66015) describes an error for a certain row(10472). So we need to remove it."
   ],
   "cell_type": "markdown",
   "metadata": {}
  },
  {
   "cell_type": "code",
   "execution_count": 5,
   "metadata": {},
   "outputs": [],
   "source": [
    "del google[10472] "
   ]
  },
  {
   "cell_type": "markdown",
   "metadata": {},
   "source": [
    "** Removing duplicate entries ** <br>\n",
    "If one can follow the discussion section mentioned above ,then one can found the data has duplicate entry,so we need to remove it also ,for e.g. Instagram has duplicate entry"
   ]
  },
  {
   "cell_type": "code",
   "execution_count": 6,
   "metadata": {},
   "outputs": [
    {
     "output_type": "stream",
     "name": "stdout",
     "text": [
      "['Instagram', 'SOCIAL', '4.5', '66577313', 'Varies with device', '1,000,000,000+', 'Free', '0', 'Teen', 'Social', 'July 31, 2018', 'Varies with device', 'Varies with device']\n['Instagram', 'SOCIAL', '4.5', '66577446', 'Varies with device', '1,000,000,000+', 'Free', '0', 'Teen', 'Social', 'July 31, 2018', 'Varies with device', 'Varies with device']\n['Instagram', 'SOCIAL', '4.5', '66577313', 'Varies with device', '1,000,000,000+', 'Free', '0', 'Teen', 'Social', 'July 31, 2018', 'Varies with device', 'Varies with device']\n['Instagram', 'SOCIAL', '4.5', '66509917', 'Varies with device', '1,000,000,000+', 'Free', '0', 'Teen', 'Social', 'July 31, 2018', 'Varies with device', 'Varies with device']\n"
     ]
    }
   ],
   "source": [
    "for app in google:\n",
    "    name=app[0]\n",
    "    if name=='Instagram':\n",
    "        print(app)"
   ]
  },
  {
   "source": [
    "Finding more duplicate entry"
   ],
   "cell_type": "markdown",
   "metadata": {}
  },
  {
   "cell_type": "code",
   "execution_count": 7,
   "metadata": {},
   "outputs": [
    {
     "output_type": "stream",
     "name": "stdout",
     "text": [
      "no. of duplicate apps: 1181\n\n\nname of apps ['Photo Editor & Candy Camera & Grid & ScrapBook', 'Coloring book moana', 'U Launcher Lite – FREE Live Cool Themes, Hide Apps', 'Sketch - Draw & Paint', 'Pixel Draw - Number Art Coloring Book', 'Paper flowers instructions', 'Smoke Effect Photo Maker - Smoke Editor', 'Infinite Painter', 'Garden Coloring Book', 'Kids Paint Free - Drawing Fun']\n"
     ]
    }
   ],
   "source": [
    "duplicate_apps=[]\n",
    "unique_apps=[]\n",
    "for app in google:\n",
    "    name=app[0]\n",
    "    if name in unique_apps:\n",
    "        duplicate_apps.append(name)\n",
    "    else:\n",
    "        unique_apps.append(name)\n",
    "        \n",
    "print('no. of duplicate apps:',len(duplicate_apps))\n",
    "print('\\n')\n",
    "print('name of apps',unique_apps[:10])"
   ]
  },
  {
   "source": [
    "If we see the review column from Instragram then it has different number of reviews each time so we will consider the tuple with higher reviews"
   ],
   "cell_type": "markdown",
   "metadata": {}
  },
  {
   "cell_type": "code",
   "execution_count": 8,
   "metadata": {},
   "outputs": [],
   "source": [
    "#creating dict with having unique entry and higher reviews\n",
    "reviews_max = {}\n",
    "\n",
    "for app in google:\n",
    "    name = app[0]\n",
    "    n_reviews = float(app[3])\n",
    "    \n",
    "    if name in reviews_max and reviews_max[name] < n_reviews:\n",
    "        reviews_max[name] = n_reviews\n",
    "        \n",
    "    elif name not in reviews_max:\n",
    "        reviews_max[name] = n_reviews"
   ]
  },
  {
   "cell_type": "code",
   "execution_count": 9,
   "metadata": {},
   "outputs": [
    {
     "output_type": "stream",
     "name": "stdout",
     "text": [
      "expected len 9659\n"
     ]
    }
   ],
   "source": [
    "print('expected len',len(reviews_max))"
   ]
  },
  {
   "source": [
    "removing duplicate entries with the help of dict created above(reviews_max)"
   ],
   "cell_type": "markdown",
   "metadata": {}
  },
  {
   "cell_type": "code",
   "execution_count": 10,
   "metadata": {},
   "outputs": [],
   "source": [
    "android_clean=[]\n",
    "already_added=[]\n",
    "for app in google:\n",
    "    name=app[0]\n",
    "    review=float(app[3])\n",
    "    if (reviews_max[name]==review)and (name not in already_added):\n",
    "        android_clean.append(app)\n",
    "        already_added.append(name)"
   ]
  },
  {
   "source": [
    "Cross verifying the rows having expected length 9659"
   ],
   "cell_type": "markdown",
   "metadata": {}
  },
  {
   "cell_type": "code",
   "execution_count": 11,
   "metadata": {
    "scrolled": true
   },
   "outputs": [
    {
     "output_type": "stream",
     "name": "stdout",
     "text": [
      "['Photo Editor & Candy Camera & Grid & ScrapBook', 'ART_AND_DESIGN', '4.1', '159', '19M', '10,000+', 'Free', '0', 'Everyone', 'Art & Design', 'January 7, 2018', '1.0.0', '4.0.3 and up']\n\n\n['U Launcher Lite – FREE Live Cool Themes, Hide Apps', 'ART_AND_DESIGN', '4.7', '87510', '8.7M', '5,000,000+', 'Free', '0', 'Everyone', 'Art & Design', 'August 1, 2018', '1.2.4', '4.0.3 and up']\n\n\n['Sketch - Draw & Paint', 'ART_AND_DESIGN', '4.5', '215644', '25M', '50,000,000+', 'Free', '0', 'Teen', 'Art & Design', 'June 8, 2018', 'Varies with device', '4.2 and up']\n\n\nNumber of rows: 9659\nNumber of columns: 13\n"
     ]
    }
   ],
   "source": [
    "explore_data(android_clean,0,3,True)"
   ]
  },
  {
   "source": [
    "English text usually includes letters from the English alphabet, numbers composed of digits from 0 to 9, punctuation marks (., !, ?, ;), and other symbols (+, *, /)each character we use in a string has a corresponding number associated with it. For instance, the corresponding number for character 'a' is 97, character 'A' is 65, and character '爱' is 29,233.We will use **ord()** to get the corresponding number for each char."
   ],
   "cell_type": "markdown",
   "metadata": {}
  },
  {
   "cell_type": "code",
   "execution_count": 12,
   "metadata": {
    "collapsed": true
   },
   "outputs": [],
   "source": [
    "#getting the char having ascii less then 127 to detect it as english or non-english and define non english if having more than 3 non english char\n",
    "def english(s):\n",
    "    non_eng=0\n",
    "    for c in s:\n",
    "        if ord(c)>127:\n",
    "            non_eng+=1\n",
    "            \n",
    "    if non_eng>3:\n",
    "        return False\n",
    "    else:\n",
    "        return True"
   ]
  },
  {
   "cell_type": "code",
   "execution_count": 13,
   "metadata": {},
   "outputs": [
    {
     "output_type": "stream",
     "name": "stdout",
     "text": [
      "False\n"
     ]
    }
   ],
   "source": [
    "print(english('爱奇艺PPS -《欢乐颂2》电视剧热播'))"
   ]
  },
  {
   "cell_type": "code",
   "execution_count": 14,
   "metadata": {},
   "outputs": [
    {
     "output_type": "stream",
     "name": "stdout",
     "text": [
      "True\n"
     ]
    }
   ],
   "source": [
    "print(english('Instagram'))"
   ]
  },
  {
   "cell_type": "code",
   "execution_count": 15,
   "metadata": {},
   "outputs": [
    {
     "output_type": "stream",
     "name": "stdout",
     "text": [
      "True\n"
     ]
    }
   ],
   "source": [
    "print(english('Instachat 😜'))"
   ]
  },
  {
   "cell_type": "code",
   "execution_count": 16,
   "metadata": {},
   "outputs": [],
   "source": [
    "eng_android=[]\n",
    "for row in android_clean:\n",
    "    name=row[0]\n",
    "    if english(name):\n",
    "        eng_android.append(row)\n",
    "    \n",
    "eng_ios=[]\n",
    "for row in apple:\n",
    "    name=row[1]\n",
    "    if english(name):\n",
    "        eng_ios.append(row)\n",
    "    "
   ]
  },
  {
   "cell_type": "code",
   "execution_count": 17,
   "metadata": {},
   "outputs": [
    {
     "output_type": "stream",
     "name": "stdout",
     "text": [
      "android apps\n['Photo Editor & Candy Camera & Grid & ScrapBook', 'ART_AND_DESIGN', '4.1', '159', '19M', '10,000+', 'Free', '0', 'Everyone', 'Art & Design', 'January 7, 2018', '1.0.0', '4.0.3 and up']\n\n\n['U Launcher Lite – FREE Live Cool Themes, Hide Apps', 'ART_AND_DESIGN', '4.7', '87510', '8.7M', '5,000,000+', 'Free', '0', 'Everyone', 'Art & Design', 'August 1, 2018', '1.2.4', '4.0.3 and up']\n\n\n['Sketch - Draw & Paint', 'ART_AND_DESIGN', '4.5', '215644', '25M', '50,000,000+', 'Free', '0', 'Teen', 'Art & Design', 'June 8, 2018', 'Varies with device', '4.2 and up']\n\n\nNumber of rows: 9659\nNumber of columns: 13\n\n\n IOS apps\n['284882215', 'Facebook', '389879808', 'USD', '0.0', '2974676', '212', '3.5', '3.5', '95.0', '4+', 'Social Networking', '37', '1', '29', '1']\n\n\n['389801252', 'Instagram', '113954816', 'USD', '0.0', '2161558', '1289', '4.5', '4.0', '10.23', '12+', 'Photo & Video', '37', '0', '29', '1']\n\n\n['529479190', 'Clash of Clans', '116476928', 'USD', '0.0', '2130805', '579', '4.5', '4.5', '9.24.12', '9+', 'Games', '38', '5', '18', '1']\n\n\nNumber of rows: 6183\nNumber of columns: 16\n"
     ]
    }
   ],
   "source": [
    "print(\"android apps\")\n",
    "explore_data(android_clean,0,3,True)\n",
    "print(\"\\n\\n IOS apps\")\n",
    "explore_data(eng_ios,0,3,True)"
   ]
  },
  {
   "source": [
    "Our data sets contain both free and non-free apps; we'll need to isolate only the free apps for our analysis."
   ],
   "cell_type": "markdown",
   "metadata": {}
  },
  {
   "cell_type": "code",
   "execution_count": 18,
   "metadata": {
    "collapsed": true
   },
   "outputs": [],
   "source": [
    "free_android=[]\n",
    "free_ios=[]\n",
    "for row in eng_android:\n",
    "    price=row[7]\n",
    "    if price=='0':\n",
    "        free_android.append(row)\n",
    "    \n",
    "for row in eng_ios:\n",
    "    price=float(row[4])\n",
    "    if price==0.0:\n",
    "        free_ios.append(row)"
   ]
  },
  {
   "cell_type": "code",
   "execution_count": 19,
   "metadata": {},
   "outputs": [
    {
     "output_type": "stream",
     "name": "stdout",
     "text": [
      "No. of free android apps\n"
     ]
    },
    {
     "output_type": "execute_result",
     "data": {
      "text/plain": [
       "8864"
      ]
     },
     "metadata": {},
     "execution_count": 19
    }
   ],
   "source": [
    "print(\"No. of free android apps\")\n",
    "len(free_android)"
   ]
  },
  {
   "cell_type": "code",
   "execution_count": 20,
   "metadata": {},
   "outputs": [
    {
     "output_type": "stream",
     "name": "stdout",
     "text": [
      "No. of free IOS apps\n"
     ]
    },
    {
     "output_type": "execute_result",
     "data": {
      "text/plain": [
       "3222"
      ]
     },
     "metadata": {},
     "execution_count": 20
    }
   ],
   "source": [
    "print(\"No. of free IOS apps\")\n",
    "len(free_ios)"
   ]
  },
  {
   "cell_type": "markdown",
   "metadata": {},
   "source": [
    "Our aim is to determine the kinds of apps that are likely to attract more users because our revenue is highly influenced by the number of people using our apps.\n",
    "To minimize risks and overhead, our validation strategy for an app idea is comprised of three steps:\n",
    "\n",
    "* Build a minimal Android version of the app, and add it to Google Play.\n",
    "* If the app has a good response from users, we develop it further.\n",
    "* If the app is profitable after six months, we build an iOS version of the app and add it to the App Store."
   ]
  },
  {
   "cell_type": "markdown",
   "metadata": {},
   "source": [
    "Our conclusion would be that we'll need to build a frequency table for the prime_genre column of the App Store data set, and for the **Genres** and **Category** columns of the Google Play data set."
   ]
  },
  {
   "cell_type": "markdown",
   "metadata": {},
   "source": [
    "We'll build two functions we can use to analyze the frequency tables:\n",
    "\n",
    "* One function to generate frequency tables that show percentages\n",
    "* Another function we can use to display the percentages in a descending order"
   ]
  },
  {
   "cell_type": "code",
   "execution_count": 21,
   "metadata": {},
   "outputs": [],
   "source": [
    "def freq_table(dataset,index):\n",
    "    freq={}\n",
    "    count=0\n",
    "    for row in dataset:\n",
    "        count+=1\n",
    "        name=row[index]\n",
    "        if name in freq:\n",
    "            freq[name]+=1\n",
    "        else:\n",
    "            freq[name]=1\n",
    "            \n",
    "    per={}        \n",
    "    for row in freq:\n",
    "        p=(freq[row]/count)*100\n",
    "        per[row]=p\n",
    "        \n",
    "    return per"
   ]
  },
  {
   "cell_type": "code",
   "execution_count": 22,
   "metadata": {
    "collapsed": true
   },
   "outputs": [],
   "source": [
    "def display_table(dataset, index):\n",
    "    table = freq_table(dataset, index)\n",
    "    table_display = []\n",
    "    for key in table:\n",
    "        key_val_as_tuple = (table[key], key)\n",
    "        table_display.append(key_val_as_tuple)\n",
    "\n",
    "    table_sorted = sorted(table_display, reverse = True)\n",
    "    for entry in table_sorted:\n",
    "        print(entry[1], ':', entry[0])"
   ]
  },
  {
   "cell_type": "code",
   "execution_count": 23,
   "metadata": {
    "scrolled": true
   },
   "outputs": [
    {
     "output_type": "stream",
     "name": "stdout",
     "text": [
      "Games : 58.16263190564867\nEntertainment : 7.883302296710118\nPhoto & Video : 4.9658597144630665\nEducation : 3.662321539416512\nSocial Networking : 3.2898820608317814\nShopping : 2.60707635009311\nUtilities : 2.5139664804469275\nSports : 2.1415270018621975\nMusic : 2.0484171322160147\nHealth & Fitness : 2.0173805090006205\nProductivity : 1.7380509000620732\nLifestyle : 1.5828677839851024\nNews : 1.3345747982619491\nTravel : 1.2414649286157666\nFinance : 1.1173184357541899\nWeather : 0.8690254500310366\nFood & Drink : 0.8069522036002483\nReference : 0.5586592178770949\nBusiness : 0.5276225946617008\nBook : 0.4345127250155183\nNavigation : 0.186219739292365\nMedical : 0.186219739292365\nCatalogs : 0.12414649286157665\n"
     ]
    }
   ],
   "source": [
    "display_table(free_ios,-5)"
   ]
  },
  {
   "cell_type": "code",
   "execution_count": 24,
   "metadata": {},
   "outputs": [
    {
     "output_type": "stream",
     "name": "stdout",
     "text": [
      "Tools : 8.449909747292418\nEntertainment : 6.069494584837545\nEducation : 5.347472924187725\nBusiness : 4.591606498194946\nProductivity : 3.892148014440433\nLifestyle : 3.892148014440433\nFinance : 3.7003610108303246\nMedical : 3.531137184115524\nSports : 3.463447653429603\nPersonalization : 3.3167870036101084\nCommunication : 3.2378158844765346\nAction : 3.1024368231046933\nHealth & Fitness : 3.0798736462093865\nPhotography : 2.944494584837545\nNews & Magazines : 2.7978339350180503\nSocial : 2.6624548736462095\nTravel & Local : 2.3240072202166067\nShopping : 2.2450361010830324\nBooks & Reference : 2.1435018050541514\nSimulation : 2.0419675090252705\nDating : 1.861462093862816\nArcade : 1.8501805054151623\nVideo Players & Editors : 1.7712093862815883\nCasual : 1.7599277978339352\nMaps & Navigation : 1.3989169675090252\nFood & Drink : 1.2409747292418771\nPuzzle : 1.128158844765343\nRacing : 0.9927797833935018\nRole Playing : 0.9363718411552346\nLibraries & Demo : 0.9363718411552346\nAuto & Vehicles : 0.9250902527075812\nStrategy : 0.9138086642599278\nHouse & Home : 0.8235559566787004\nWeather : 0.8009927797833934\nEvents : 0.7107400722021661\nAdventure : 0.6768953068592057\nComics : 0.6092057761732852\nBeauty : 0.5979241877256317\nArt & Design : 0.5979241877256317\nParenting : 0.4963898916967509\nCard : 0.45126353790613716\nCasino : 0.42870036101083037\nTrivia : 0.41741877256317694\nEducational;Education : 0.39485559566787\nBoard : 0.3835740072202166\nEducational : 0.3722924187725632\nEducation;Education : 0.33844765342960287\nWord : 0.2594765342960289\nCasual;Pretend Play : 0.236913357400722\nMusic : 0.2030685920577617\nRacing;Action & Adventure : 0.16922382671480143\nPuzzle;Brain Games : 0.16922382671480143\nEntertainment;Music & Video : 0.16922382671480143\nCasual;Brain Games : 0.13537906137184114\nCasual;Action & Adventure : 0.13537906137184114\nArcade;Action & Adventure : 0.12409747292418773\nAction;Action & Adventure : 0.10153429602888085\nEducational;Pretend Play : 0.09025270758122744\nSimulation;Action & Adventure : 0.078971119133574\nParenting;Education : 0.078971119133574\nEntertainment;Brain Games : 0.078971119133574\nBoard;Brain Games : 0.078971119133574\nParenting;Music & Video : 0.06768953068592057\nEducational;Brain Games : 0.06768953068592057\nCasual;Creativity : 0.06768953068592057\nArt & Design;Creativity : 0.06768953068592057\nEducation;Pretend Play : 0.056407942238267145\nRole Playing;Pretend Play : 0.04512635379061372\nEducation;Creativity : 0.04512635379061372\nRole Playing;Action & Adventure : 0.033844765342960284\nPuzzle;Action & Adventure : 0.033844765342960284\nEntertainment;Creativity : 0.033844765342960284\nEntertainment;Action & Adventure : 0.033844765342960284\nEducational;Creativity : 0.033844765342960284\nEducational;Action & Adventure : 0.033844765342960284\nEducation;Music & Video : 0.033844765342960284\nEducation;Brain Games : 0.033844765342960284\nEducation;Action & Adventure : 0.033844765342960284\nAdventure;Action & Adventure : 0.033844765342960284\nVideo Players & Editors;Music & Video : 0.02256317689530686\nSports;Action & Adventure : 0.02256317689530686\nSimulation;Pretend Play : 0.02256317689530686\nPuzzle;Creativity : 0.02256317689530686\nMusic;Music & Video : 0.02256317689530686\nEntertainment;Pretend Play : 0.02256317689530686\nCasual;Education : 0.02256317689530686\nBoard;Action & Adventure : 0.02256317689530686\nVideo Players & Editors;Creativity : 0.01128158844765343\nTrivia;Education : 0.01128158844765343\nTravel & Local;Action & Adventure : 0.01128158844765343\nTools;Education : 0.01128158844765343\nStrategy;Education : 0.01128158844765343\nStrategy;Creativity : 0.01128158844765343\nStrategy;Action & Adventure : 0.01128158844765343\nSimulation;Education : 0.01128158844765343\nRole Playing;Brain Games : 0.01128158844765343\nRacing;Pretend Play : 0.01128158844765343\nPuzzle;Education : 0.01128158844765343\nParenting;Brain Games : 0.01128158844765343\nMusic & Audio;Music & Video : 0.01128158844765343\nLifestyle;Pretend Play : 0.01128158844765343\nLifestyle;Education : 0.01128158844765343\nHealth & Fitness;Education : 0.01128158844765343\nHealth & Fitness;Action & Adventure : 0.01128158844765343\nEntertainment;Education : 0.01128158844765343\nCommunication;Creativity : 0.01128158844765343\nComics;Creativity : 0.01128158844765343\nCasual;Music & Video : 0.01128158844765343\nCard;Action & Adventure : 0.01128158844765343\nBooks & Reference;Education : 0.01128158844765343\nArt & Design;Pretend Play : 0.01128158844765343\nArt & Design;Action & Adventure : 0.01128158844765343\nArcade;Pretend Play : 0.01128158844765343\nAdventure;Education : 0.01128158844765343\n"
     ]
    }
   ],
   "source": [
    "display_table(free_android,-4)"
   ]
  },
  {
   "cell_type": "code",
   "execution_count": 25,
   "metadata": {},
   "outputs": [
    {
     "output_type": "stream",
     "name": "stdout",
     "text": [
      "FAMILY : 18.907942238267147\nGAME : 9.724729241877256\nTOOLS : 8.461191335740072\nBUSINESS : 4.591606498194946\nLIFESTYLE : 3.9034296028880866\nPRODUCTIVITY : 3.892148014440433\nFINANCE : 3.7003610108303246\nMEDICAL : 3.531137184115524\nSPORTS : 3.395758122743682\nPERSONALIZATION : 3.3167870036101084\nCOMMUNICATION : 3.2378158844765346\nHEALTH_AND_FITNESS : 3.0798736462093865\nPHOTOGRAPHY : 2.944494584837545\nNEWS_AND_MAGAZINES : 2.7978339350180503\nSOCIAL : 2.6624548736462095\nTRAVEL_AND_LOCAL : 2.33528880866426\nSHOPPING : 2.2450361010830324\nBOOKS_AND_REFERENCE : 2.1435018050541514\nDATING : 1.861462093862816\nVIDEO_PLAYERS : 1.7937725631768955\nMAPS_AND_NAVIGATION : 1.3989169675090252\nFOOD_AND_DRINK : 1.2409747292418771\nEDUCATION : 1.1620036101083033\nENTERTAINMENT : 0.9589350180505415\nLIBRARIES_AND_DEMO : 0.9363718411552346\nAUTO_AND_VEHICLES : 0.9250902527075812\nHOUSE_AND_HOME : 0.8235559566787004\nWEATHER : 0.8009927797833934\nEVENTS : 0.7107400722021661\nPARENTING : 0.6543321299638989\nART_AND_DESIGN : 0.6430505415162455\nCOMICS : 0.6204873646209386\nBEAUTY : 0.5979241877256317\n"
     ]
    }
   ],
   "source": [
    "display_table(free_android,1)"
   ]
  },
  {
   "cell_type": "markdown",
   "metadata": {},
   "source": [
    "One way to find out what genres are the most popular (have the most users) is to calculate the average number of installs for each app genre. For the Google Play data set, we can find this information in the Installs column, but this information is missing for the App Store data set. As a workaround, we'll take the total number of user ratings as a proxy, which we can find in the rating_count_tot app.\n",
    "\n",
    "Let's start with calculating the average number of user ratings per app genre on the App Store. To do that, we'll need to:\n",
    "\n",
    "* Isolate the apps of each genre.\n",
    "* Sum up the user ratings for the apps of that genre.\n",
    "* Divide the sum by the number of apps belonging to that genre (not by the total number of apps)."
   ]
  },
  {
   "cell_type": "code",
   "execution_count": 26,
   "metadata": {
    "scrolled": true
   },
   "outputs": [
    {
     "output_type": "execute_result",
     "data": {
      "text/plain": [
       "{'Social Networking': 3.2898820608317814,\n",
       " 'Photo & Video': 4.9658597144630665,\n",
       " 'Games': 58.16263190564867,\n",
       " 'Music': 2.0484171322160147,\n",
       " 'Reference': 0.5586592178770949,\n",
       " 'Health & Fitness': 2.0173805090006205,\n",
       " 'Weather': 0.8690254500310366,\n",
       " 'Utilities': 2.5139664804469275,\n",
       " 'Travel': 1.2414649286157666,\n",
       " 'Shopping': 2.60707635009311,\n",
       " 'News': 1.3345747982619491,\n",
       " 'Navigation': 0.186219739292365,\n",
       " 'Lifestyle': 1.5828677839851024,\n",
       " 'Entertainment': 7.883302296710118,\n",
       " 'Food & Drink': 0.8069522036002483,\n",
       " 'Sports': 2.1415270018621975,\n",
       " 'Book': 0.4345127250155183,\n",
       " 'Finance': 1.1173184357541899,\n",
       " 'Education': 3.662321539416512,\n",
       " 'Productivity': 1.7380509000620732,\n",
       " 'Business': 0.5276225946617008,\n",
       " 'Catalogs': 0.12414649286157665,\n",
       " 'Medical': 0.186219739292365}"
      ]
     },
     "metadata": {},
     "execution_count": 26
    }
   ],
   "source": [
    "genre=freq_table(free_ios,-5)\n",
    "genre"
   ]
  },
  {
   "source": [
    "Average number os user rating per app genre on APP store:"
   ],
   "cell_type": "markdown",
   "metadata": {}
  },
  {
   "cell_type": "code",
   "execution_count": 27,
   "metadata": {},
   "outputs": [
    {
     "output_type": "stream",
     "name": "stdout",
     "text": [
      "Social Networking : 71548.34905660378\nPhoto & Video : 28441.54375\nGames : 22788.6696905016\nMusic : 57326.530303030304\nReference : 74942.11111111111\nHealth & Fitness : 23298.015384615384\nWeather : 52279.892857142855\nUtilities : 18684.456790123455\nTravel : 28243.8\nShopping : 26919.690476190477\nNews : 21248.023255813954\nNavigation : 86090.33333333333\nLifestyle : 16485.764705882353\nEntertainment : 14029.830708661417\nFood & Drink : 33333.92307692308\nSports : 23008.898550724636\nBook : 39758.5\nFinance : 31467.944444444445\nEducation : 7003.983050847458\nProductivity : 21028.410714285714\nBusiness : 7491.117647058823\nCatalogs : 4004.0\nMedical : 612.0\n"
     ]
    }
   ],
   "source": [
    "for gen in genre:\n",
    "    total=0\n",
    "    len_genre=0\n",
    "    for row in free_ios:\n",
    "        genre_app=row[-5]\n",
    "        if genre_app==gen:\n",
    "            rating=float(row[5])\n",
    "            total+=rating\n",
    "            len_genre+=1\n",
    "    \n",
    "    avg_rating=total/len_genre\n",
    "    print(gen,':',avg_rating)\n",
    "   \n",
    "            "
   ]
  },
  {
   "source": [
    "We have data about the number of installs for the Google Play market, so we should be able to get a clearer picture about genre popularity."
   ],
   "cell_type": "markdown",
   "metadata": {}
  },
  {
   "cell_type": "code",
   "execution_count": 28,
   "metadata": {
    "collapsed": true
   },
   "outputs": [],
   "source": [
    "category=freq_table(free_android,1)"
   ]
  },
  {
   "cell_type": "code",
   "execution_count": 29,
   "metadata": {},
   "outputs": [
    {
     "output_type": "execute_result",
     "data": {
      "text/plain": [
       "{'ART_AND_DESIGN': 0.6430505415162455,\n",
       " 'AUTO_AND_VEHICLES': 0.9250902527075812,\n",
       " 'BEAUTY': 0.5979241877256317,\n",
       " 'BOOKS_AND_REFERENCE': 2.1435018050541514,\n",
       " 'BUSINESS': 4.591606498194946,\n",
       " 'COMICS': 0.6204873646209386,\n",
       " 'COMMUNICATION': 3.2378158844765346,\n",
       " 'DATING': 1.861462093862816,\n",
       " 'EDUCATION': 1.1620036101083033,\n",
       " 'ENTERTAINMENT': 0.9589350180505415,\n",
       " 'EVENTS': 0.7107400722021661,\n",
       " 'FINANCE': 3.7003610108303246,\n",
       " 'FOOD_AND_DRINK': 1.2409747292418771,\n",
       " 'HEALTH_AND_FITNESS': 3.0798736462093865,\n",
       " 'HOUSE_AND_HOME': 0.8235559566787004,\n",
       " 'LIBRARIES_AND_DEMO': 0.9363718411552346,\n",
       " 'LIFESTYLE': 3.9034296028880866,\n",
       " 'GAME': 9.724729241877256,\n",
       " 'FAMILY': 18.907942238267147,\n",
       " 'MEDICAL': 3.531137184115524,\n",
       " 'SOCIAL': 2.6624548736462095,\n",
       " 'SHOPPING': 2.2450361010830324,\n",
       " 'PHOTOGRAPHY': 2.944494584837545,\n",
       " 'SPORTS': 3.395758122743682,\n",
       " 'TRAVEL_AND_LOCAL': 2.33528880866426,\n",
       " 'TOOLS': 8.461191335740072,\n",
       " 'PERSONALIZATION': 3.3167870036101084,\n",
       " 'PRODUCTIVITY': 3.892148014440433,\n",
       " 'PARENTING': 0.6543321299638989,\n",
       " 'WEATHER': 0.8009927797833934,\n",
       " 'VIDEO_PLAYERS': 1.7937725631768955,\n",
       " 'NEWS_AND_MAGAZINES': 2.7978339350180503,\n",
       " 'MAPS_AND_NAVIGATION': 1.3989169675090252}"
      ]
     },
     "metadata": {},
     "execution_count": 29
    }
   ],
   "source": [
    "category"
   ]
  },
  {
   "cell_type": "code",
   "execution_count": 30,
   "metadata": {},
   "outputs": [
    {
     "output_type": "stream",
     "name": "stdout",
     "text": [
      "1,000,000+ : 15.726534296028879\n100,000+ : 11.552346570397113\n10,000,000+ : 10.548285198555957\n10,000+ : 10.198555956678701\n1,000+ : 8.393501805054152\n100+ : 6.915613718411552\n5,000,000+ : 6.825361010830325\n500,000+ : 5.561823104693141\n50,000+ : 4.7721119133574\n5,000+ : 4.512635379061372\n10+ : 3.5424187725631766\n500+ : 3.2490974729241873\n50,000,000+ : 2.3014440433213\n100,000,000+ : 2.1322202166064983\n50+ : 1.917870036101083\n5+ : 0.78971119133574\n1+ : 0.5076714801444043\n500,000,000+ : 0.2707581227436823\n1,000,000,000+ : 0.22563176895306858\n0+ : 0.04512635379061372\n0 : 0.01128158844765343\n"
     ]
    }
   ],
   "source": [
    "display_table(free_android,5)"
   ]
  },
  {
   "source": [
    "However, the install numbers don't seem precise enough — we can see that most values are open-ended (100+, 1,000+, 5,000+, etc.)However, we don't need very precise data for our purposes — we only want to find out which app genres attract the most users, and we don't need perfect precision with respect to the number of users. \n",
    "We can remove the '+' ,',' for futher better analysis."
   ],
   "cell_type": "markdown",
   "metadata": {}
  },
  {
   "cell_type": "code",
   "execution_count": 31,
   "metadata": {},
   "outputs": [
    {
     "output_type": "stream",
     "name": "stdout",
     "text": [
      "ART_AND_DESIGN : 1986335.0877192982\nAUTO_AND_VEHICLES : 647317.8170731707\nBEAUTY : 513151.88679245283\nBOOKS_AND_REFERENCE : 8767811.894736841\nBUSINESS : 1712290.1474201474\nCOMICS : 817657.2727272727\nCOMMUNICATION : 38456119.167247385\nDATING : 854028.8303030303\nEDUCATION : 1833495.145631068\nENTERTAINMENT : 11640705.88235294\nEVENTS : 253542.22222222222\nFINANCE : 1387692.475609756\nFOOD_AND_DRINK : 1924897.7363636363\nHEALTH_AND_FITNESS : 4188821.9853479853\nHOUSE_AND_HOME : 1331540.5616438356\nLIBRARIES_AND_DEMO : 638503.734939759\nLIFESTYLE : 1437816.2687861272\nGAME : 15588015.603248259\nFAMILY : 3695641.8198090694\nMEDICAL : 120550.61980830671\nSOCIAL : 23253652.127118643\nSHOPPING : 7036877.311557789\nPHOTOGRAPHY : 17840110.40229885\nSPORTS : 3638640.1428571427\nTRAVEL_AND_LOCAL : 13984077.710144928\nTOOLS : 10801391.298666667\nPERSONALIZATION : 5201482.6122448975\nPRODUCTIVITY : 16787331.344927534\nPARENTING : 542603.6206896552\nWEATHER : 5074486.197183099\nVIDEO_PLAYERS : 24727872.452830188\nNEWS_AND_MAGAZINES : 9549178.467741935\nMAPS_AND_NAVIGATION : 4056941.7741935486\n"
     ]
    }
   ],
   "source": [
    "for iter in category:\n",
    "    total=0\n",
    "    len_category=0\n",
    "    for row in free_android:\n",
    "        category_app=row[1]\n",
    "        if category_app==iter:\n",
    "            install=row[5]\n",
    "            install=install.replace('+','')\n",
    "            install=install.replace(',','')\n",
    "            total+=float(install)\n",
    "            len_category+=1\n",
    "    \n",
    "    avg_user=total/len_category\n",
    "    print(iter,':',avg_user)"
   ]
  },
  {
   "source": [
    "As we can see communication apps are mostly used . We will se some communication apps:"
   ],
   "cell_type": "markdown",
   "metadata": {}
  },
  {
   "cell_type": "code",
   "execution_count": 32,
   "metadata": {
    "collapsed": true
   },
   "outputs": [
    {
     "output_type": "stream",
     "name": "stdout",
     "text": [
      "WhatsApp Messenger : 1,000,000,000+\nimo beta free calls and text : 100,000,000+\nAndroid Messages : 100,000,000+\nGoogle Duo - High Quality Video Calls : 500,000,000+\nMessenger – Text and Video Chat for Free : 1,000,000,000+\nimo free video calls and chat : 500,000,000+\nSkype - free IM & video calls : 1,000,000,000+\nWho : 100,000,000+\nGO SMS Pro - Messenger, Free Themes, Emoji : 100,000,000+\nLINE: Free Calls & Messages : 500,000,000+\nGoogle Chrome: Fast & Secure : 1,000,000,000+\nFirefox Browser fast & private : 100,000,000+\nUC Browser - Fast Download Private & Secure : 500,000,000+\nGmail : 1,000,000,000+\nHangouts : 1,000,000,000+\nMessenger Lite: Free Calls & Messages : 100,000,000+\nKik : 100,000,000+\nKakaoTalk: Free Calls & Text : 100,000,000+\nOpera Mini - fast web browser : 100,000,000+\nOpera Browser: Fast and Secure : 100,000,000+\nTelegram : 100,000,000+\nTruecaller: Caller ID, SMS spam blocking & Dialer : 100,000,000+\nUC Browser Mini -Tiny Fast Private & Secure : 100,000,000+\nViber Messenger : 500,000,000+\nWeChat : 100,000,000+\nYahoo Mail – Stay Organized : 100,000,000+\nBBM - Free Calls & Messages : 100,000,000+\n"
     ]
    }
   ],
   "source": [
    "for app in free_android:\n",
    "    if app[1] == 'COMMUNICATION' and (app[5] == '1,000,000,000+'\n",
    "                                      or app[5] == '500,000,000+'\n",
    "                                      or app[5] == '100,000,000+'):\n",
    "        print(app[0], ':', app[5])"
   ]
  },
  {
   "source": [
    "These genre of apps are most popular and they are dominating in market already , if we see on other genre like games then its also more popular and is saturated now days . If we look at books they are also popular as well,we can found some more insight on the genre "
   ],
   "cell_type": "markdown",
   "metadata": {}
  },
  {
   "cell_type": "code",
   "execution_count": 33,
   "metadata": {},
   "outputs": [
    {
     "output_type": "stream",
     "name": "stdout",
     "text": [
      "Book store : 1,000,000+\nFree Books - Spirit Fanfiction and Stories : 1,000,000+\nGoogle Play Books : 1,000,000,000+\nAlReader -any text book reader : 5,000,000+\nFamilySearch Tree : 1,000,000+\nCloud of Books : 1,000,000+\nReadEra – free ebook reader : 1,000,000+\nEbook Reader : 5,000,000+\nRead books online : 5,000,000+\neBoox: book reader fb2 epub zip : 1,000,000+\nAll Maths Formulas : 1,000,000+\nAncestry : 5,000,000+\nEnglish-Myanmar Dictionary : 1,000,000+\nGolden Dictionary (EN-AR) : 1,000,000+\nAll Language Translator Free : 1,000,000+\nBible : 100,000,000+\nAmazon Kindle : 100,000,000+\nWattpad 📖 Free Books : 100,000,000+\nDictionary - WordWeb : 5,000,000+\n50000 Free eBooks & Free AudioBooks : 5,000,000+\nAl Quran Al karim : 1,000,000+\nAl Quran : EAlim - Translations & MP3 Offline : 5,000,000+\nKoran Read &MP3 30 Juz Offline : 1,000,000+\nHafizi Quran 15 lines per page : 1,000,000+\nSatellite AR : 1,000,000+\nAudiobooks from Audible : 100,000,000+\nOxford A-Z of English Usage : 1,000,000+\nBible KJV : 5,000,000+\nBrilliant Quotes: Life, Love, Family & Motivation : 1,000,000+\nStats Royale for Clash Royale : 1,000,000+\nwikiHow: how to do anything : 1,000,000+\nEGW Writings : 1,000,000+\nMy Little Pony AR Guide : 1,000,000+\nEnglish to Hindi Dictionary : 5,000,000+\n"
     ]
    }
   ],
   "source": [
    "\n",
    "for app in free_android:\n",
    "    if app[1] == 'BOOKS_AND_REFERENCE' and (app[5] == '1,000,000,000+'\n",
    "                                            or app[5] == '500,000,000+'\n",
    "                                            or app[5] == '100,000,000+' or app[5] == '5,000,000+' or app[5] == '1,000,000+'):\n",
    "        print(app[0], ':', app[5])"
   ]
  },
  {
   "source": [
    "This genre seems to have more potential in market, although we need to have better quality of books or technology like ebooks, audio books etc. we concluded that taking a very popular book (perhaps a more recent book) and turning it into an app could be profitable for both the Google Play and the App Store market. The markets are already full of libraries, so we need to add some special features besides the raw version of the book. This might include daily quotes from the book, an audio version of the book, quizzes on the book, a forum where people can discuss the book, etc."
   ],
   "cell_type": "markdown",
   "metadata": {}
  }
 ],
 "metadata": {
  "kernelspec": {
   "display_name": "Python 3",
   "language": "python",
   "name": "python3"
  },
  "language_info": {
   "codemirror_mode": {
    "name": "ipython",
    "version": 3
   },
   "file_extension": ".py",
   "mimetype": "text/x-python",
   "name": "python",
   "nbconvert_exporter": "python",
   "pygments_lexer": "ipython3",
   "version": "3.7.9-final"
  }
 },
 "nbformat": 4,
 "nbformat_minor": 2
}