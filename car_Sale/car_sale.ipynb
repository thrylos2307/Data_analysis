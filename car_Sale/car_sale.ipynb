{
 "cells": [
  {
   "cell_type": "markdown",
   "metadata": {
    "collapsed": true
   },
   "source": [
    "# Car on budget\n",
    "The aim is to clean the data and analyze the included used car listings.\n",
    "The data dictionary provided with data is as follows:\n",
    "\n",
    "* dateCrawled - When this ad was first crawled. All field-values are taken from this date.\n",
    "* name - Name of the car.\n",
    "* seller - Whether the seller is private or a dealer.\n",
    "* offerType - The type of listing\n",
    "* price - The price on the ad to sell the car.\n",
    "* abtest - Whether the listing is included in an A/B test.\n",
    "* vehicleType - The vehicle Type.\n",
    "* yearOfRegistration - The year in which the car was first registered.\n",
    "* gearbox - The transmission type.\n",
    "* powerPS - The power of the car in PS.\n",
    "* model - The car model name.\n",
    "* kilometer - How many kilometers the car has driven.\n",
    "* monthOfRegistration - The month in which the car was first registered.\n",
    "* fuelType - What type of fuel the car uses.\n",
    "* brand - The brand of the car.\n",
    "* notRepairedDamage - If the car has a damage which is not yet repaired.\n",
    "* dateCreated - The date on which the eBay listing was created.\n",
    "* nrOfPictures - The number of pictures in the ad.\n",
    "* postalCode - The postal code for the location of the vehicle.\n",
    "* lastSeenOnline - When the crawler saw this ad last online."
   ]
  },
  {
   "cell_type": "code",
   "execution_count": 1,
   "metadata": {
    "collapsed": false
   },
   "outputs": [],
   "source": [
    "import pandas as pd \n",
    "import numpy as np"
   ]
  },
  {
   "cell_type": "code",
   "execution_count": 2,
   "metadata": {
    "collapsed": false
   },
   "outputs": [],
   "source": [
    "autos=pd.read_csv(\"autos.csv\",encoding=\"Latin-1\")"
   ]
  },
  {
   "cell_type": "code",
   "execution_count": 3,
   "metadata": {
    "collapsed": false
   },
   "outputs": [
    {
     "output_type": "execute_result",
     "data": {
      "text/plain": [
       "               dateCrawled                                               name  \\\n",
       "0      2016-03-26 17:47:46                   Peugeot_807_160_NAVTECH_ON_BOARD   \n",
       "1      2016-04-04 13:38:56         BMW_740i_4_4_Liter_HAMANN_UMBAU_Mega_Optik   \n",
       "2      2016-03-26 18:57:24                         Volkswagen_Golf_1.6_United   \n",
       "3      2016-03-12 16:58:10  Smart_smart_fortwo_coupe_softouch/F1/Klima/Pan...   \n",
       "4      2016-04-01 14:38:50  Ford_Focus_1_6_Benzin_TÜV_neu_ist_sehr_gepfleg...   \n",
       "...                    ...                                                ...   \n",
       "49995  2016-03-27 14:38:19   Audi_Q5_3.0_TDI_qu._S_tr.__Navi__Panorama__Xenon   \n",
       "49996  2016-03-28 10:50:25  Opel_Astra_F_Cabrio_Bertone_Edition___TÜV_neu+...   \n",
       "49997  2016-04-02 14:44:48                     Fiat_500_C_1.2_Dualogic_Lounge   \n",
       "49998  2016-03-08 19:25:42                 Audi_A3_2.0_TDI_Sportback_Ambition   \n",
       "49999  2016-03-14 00:42:12                                Opel_Vectra_1.6_16V   \n",
       "\n",
       "       seller offerType    price   abtest vehicleType  yearOfRegistration  \\\n",
       "0      privat   Angebot   $5,000  control         bus                2004   \n",
       "1      privat   Angebot   $8,500  control   limousine                1997   \n",
       "2      privat   Angebot   $8,990     test   limousine                2009   \n",
       "3      privat   Angebot   $4,350  control  kleinwagen                2007   \n",
       "4      privat   Angebot   $1,350     test       kombi                2003   \n",
       "...       ...       ...      ...      ...         ...                 ...   \n",
       "49995  privat   Angebot  $24,900  control   limousine                2011   \n",
       "49996  privat   Angebot   $1,980  control      cabrio                1996   \n",
       "49997  privat   Angebot  $13,200     test      cabrio                2014   \n",
       "49998  privat   Angebot  $22,900  control       kombi                2013   \n",
       "49999  privat   Angebot   $1,250  control   limousine                1996   \n",
       "\n",
       "         gearbox  powerPS   model   odometer  monthOfRegistration fuelType  \\\n",
       "0        manuell      158  andere  150,000km                    3      lpg   \n",
       "1      automatik      286     7er  150,000km                    6   benzin   \n",
       "2        manuell      102    golf   70,000km                    7   benzin   \n",
       "3      automatik       71  fortwo   70,000km                    6   benzin   \n",
       "4        manuell        0   focus  150,000km                    7   benzin   \n",
       "...          ...      ...     ...        ...                  ...      ...   \n",
       "49995  automatik      239      q5  100,000km                    1   diesel   \n",
       "49996    manuell       75   astra  150,000km                    5   benzin   \n",
       "49997  automatik       69     500    5,000km                   11   benzin   \n",
       "49998    manuell      150      a3   40,000km                   11   diesel   \n",
       "49999    manuell      101  vectra  150,000km                    1   benzin   \n",
       "\n",
       "            brand notRepairedDamage          dateCreated  nrOfPictures  \\\n",
       "0         peugeot              nein  2016-03-26 00:00:00             0   \n",
       "1             bmw              nein  2016-04-04 00:00:00             0   \n",
       "2      volkswagen              nein  2016-03-26 00:00:00             0   \n",
       "3           smart              nein  2016-03-12 00:00:00             0   \n",
       "4            ford              nein  2016-04-01 00:00:00             0   \n",
       "...           ...               ...                  ...           ...   \n",
       "49995        audi              nein  2016-03-27 00:00:00             0   \n",
       "49996        opel              nein  2016-03-28 00:00:00             0   \n",
       "49997        fiat              nein  2016-04-02 00:00:00             0   \n",
       "49998        audi              nein  2016-03-08 00:00:00             0   \n",
       "49999        opel              nein  2016-03-13 00:00:00             0   \n",
       "\n",
       "       postalCode             lastSeen  \n",
       "0           79588  2016-04-06 06:45:54  \n",
       "1           71034  2016-04-06 14:45:08  \n",
       "2           35394  2016-04-06 20:15:37  \n",
       "3           33729  2016-03-15 03:16:28  \n",
       "4           39218  2016-04-01 14:38:50  \n",
       "...           ...                  ...  \n",
       "49995       82131  2016-04-01 13:47:40  \n",
       "49996       44807  2016-04-02 14:18:02  \n",
       "49997       73430  2016-04-04 11:47:27  \n",
       "49998       35683  2016-04-05 16:45:07  \n",
       "49999       45897  2016-04-06 21:18:48  \n",
       "\n",
       "[50000 rows x 20 columns]"
      ],
      "text/html": "<div>\n<style scoped>\n    .dataframe tbody tr th:only-of-type {\n        vertical-align: middle;\n    }\n\n    .dataframe tbody tr th {\n        vertical-align: top;\n    }\n\n    .dataframe thead th {\n        text-align: right;\n    }\n</style>\n<table border=\"1\" class=\"dataframe\">\n  <thead>\n    <tr style=\"text-align: right;\">\n      <th></th>\n      <th>dateCrawled</th>\n      <th>name</th>\n      <th>seller</th>\n      <th>offerType</th>\n      <th>price</th>\n      <th>abtest</th>\n      <th>vehicleType</th>\n      <th>yearOfRegistration</th>\n      <th>gearbox</th>\n      <th>powerPS</th>\n      <th>model</th>\n      <th>odometer</th>\n      <th>monthOfRegistration</th>\n      <th>fuelType</th>\n      <th>brand</th>\n      <th>notRepairedDamage</th>\n      <th>dateCreated</th>\n      <th>nrOfPictures</th>\n      <th>postalCode</th>\n      <th>lastSeen</th>\n    </tr>\n  </thead>\n  <tbody>\n    <tr>\n      <th>0</th>\n      <td>2016-03-26 17:47:46</td>\n      <td>Peugeot_807_160_NAVTECH_ON_BOARD</td>\n      <td>privat</td>\n      <td>Angebot</td>\n      <td>$5,000</td>\n      <td>control</td>\n      <td>bus</td>\n      <td>2004</td>\n      <td>manuell</td>\n      <td>158</td>\n      <td>andere</td>\n      <td>150,000km</td>\n      <td>3</td>\n      <td>lpg</td>\n      <td>peugeot</td>\n      <td>nein</td>\n      <td>2016-03-26 00:00:00</td>\n      <td>0</td>\n      <td>79588</td>\n      <td>2016-04-06 06:45:54</td>\n    </tr>\n    <tr>\n      <th>1</th>\n      <td>2016-04-04 13:38:56</td>\n      <td>BMW_740i_4_4_Liter_HAMANN_UMBAU_Mega_Optik</td>\n      <td>privat</td>\n      <td>Angebot</td>\n      <td>$8,500</td>\n      <td>control</td>\n      <td>limousine</td>\n      <td>1997</td>\n      <td>automatik</td>\n      <td>286</td>\n      <td>7er</td>\n      <td>150,000km</td>\n      <td>6</td>\n      <td>benzin</td>\n      <td>bmw</td>\n      <td>nein</td>\n      <td>2016-04-04 00:00:00</td>\n      <td>0</td>\n      <td>71034</td>\n      <td>2016-04-06 14:45:08</td>\n    </tr>\n    <tr>\n      <th>2</th>\n      <td>2016-03-26 18:57:24</td>\n      <td>Volkswagen_Golf_1.6_United</td>\n      <td>privat</td>\n      <td>Angebot</td>\n      <td>$8,990</td>\n      <td>test</td>\n      <td>limousine</td>\n      <td>2009</td>\n      <td>manuell</td>\n      <td>102</td>\n      <td>golf</td>\n      <td>70,000km</td>\n      <td>7</td>\n      <td>benzin</td>\n      <td>volkswagen</td>\n      <td>nein</td>\n      <td>2016-03-26 00:00:00</td>\n      <td>0</td>\n      <td>35394</td>\n      <td>2016-04-06 20:15:37</td>\n    </tr>\n    <tr>\n      <th>3</th>\n      <td>2016-03-12 16:58:10</td>\n      <td>Smart_smart_fortwo_coupe_softouch/F1/Klima/Pan...</td>\n      <td>privat</td>\n      <td>Angebot</td>\n      <td>$4,350</td>\n      <td>control</td>\n      <td>kleinwagen</td>\n      <td>2007</td>\n      <td>automatik</td>\n      <td>71</td>\n      <td>fortwo</td>\n      <td>70,000km</td>\n      <td>6</td>\n      <td>benzin</td>\n      <td>smart</td>\n      <td>nein</td>\n      <td>2016-03-12 00:00:00</td>\n      <td>0</td>\n      <td>33729</td>\n      <td>2016-03-15 03:16:28</td>\n    </tr>\n    <tr>\n      <th>4</th>\n      <td>2016-04-01 14:38:50</td>\n      <td>Ford_Focus_1_6_Benzin_TÜV_neu_ist_sehr_gepfleg...</td>\n      <td>privat</td>\n      <td>Angebot</td>\n      <td>$1,350</td>\n      <td>test</td>\n      <td>kombi</td>\n      <td>2003</td>\n      <td>manuell</td>\n      <td>0</td>\n      <td>focus</td>\n      <td>150,000km</td>\n      <td>7</td>\n      <td>benzin</td>\n      <td>ford</td>\n      <td>nein</td>\n      <td>2016-04-01 00:00:00</td>\n      <td>0</td>\n      <td>39218</td>\n      <td>2016-04-01 14:38:50</td>\n    </tr>\n    <tr>\n      <th>...</th>\n      <td>...</td>\n      <td>...</td>\n      <td>...</td>\n      <td>...</td>\n      <td>...</td>\n      <td>...</td>\n      <td>...</td>\n      <td>...</td>\n      <td>...</td>\n      <td>...</td>\n      <td>...</td>\n      <td>...</td>\n      <td>...</td>\n      <td>...</td>\n      <td>...</td>\n      <td>...</td>\n      <td>...</td>\n      <td>...</td>\n      <td>...</td>\n      <td>...</td>\n    </tr>\n    <tr>\n      <th>49995</th>\n      <td>2016-03-27 14:38:19</td>\n      <td>Audi_Q5_3.0_TDI_qu._S_tr.__Navi__Panorama__Xenon</td>\n      <td>privat</td>\n      <td>Angebot</td>\n      <td>$24,900</td>\n      <td>control</td>\n      <td>limousine</td>\n      <td>2011</td>\n      <td>automatik</td>\n      <td>239</td>\n      <td>q5</td>\n      <td>100,000km</td>\n      <td>1</td>\n      <td>diesel</td>\n      <td>audi</td>\n      <td>nein</td>\n      <td>2016-03-27 00:00:00</td>\n      <td>0</td>\n      <td>82131</td>\n      <td>2016-04-01 13:47:40</td>\n    </tr>\n    <tr>\n      <th>49996</th>\n      <td>2016-03-28 10:50:25</td>\n      <td>Opel_Astra_F_Cabrio_Bertone_Edition___TÜV_neu+...</td>\n      <td>privat</td>\n      <td>Angebot</td>\n      <td>$1,980</td>\n      <td>control</td>\n      <td>cabrio</td>\n      <td>1996</td>\n      <td>manuell</td>\n      <td>75</td>\n      <td>astra</td>\n      <td>150,000km</td>\n      <td>5</td>\n      <td>benzin</td>\n      <td>opel</td>\n      <td>nein</td>\n      <td>2016-03-28 00:00:00</td>\n      <td>0</td>\n      <td>44807</td>\n      <td>2016-04-02 14:18:02</td>\n    </tr>\n    <tr>\n      <th>49997</th>\n      <td>2016-04-02 14:44:48</td>\n      <td>Fiat_500_C_1.2_Dualogic_Lounge</td>\n      <td>privat</td>\n      <td>Angebot</td>\n      <td>$13,200</td>\n      <td>test</td>\n      <td>cabrio</td>\n      <td>2014</td>\n      <td>automatik</td>\n      <td>69</td>\n      <td>500</td>\n      <td>5,000km</td>\n      <td>11</td>\n      <td>benzin</td>\n      <td>fiat</td>\n      <td>nein</td>\n      <td>2016-04-02 00:00:00</td>\n      <td>0</td>\n      <td>73430</td>\n      <td>2016-04-04 11:47:27</td>\n    </tr>\n    <tr>\n      <th>49998</th>\n      <td>2016-03-08 19:25:42</td>\n      <td>Audi_A3_2.0_TDI_Sportback_Ambition</td>\n      <td>privat</td>\n      <td>Angebot</td>\n      <td>$22,900</td>\n      <td>control</td>\n      <td>kombi</td>\n      <td>2013</td>\n      <td>manuell</td>\n      <td>150</td>\n      <td>a3</td>\n      <td>40,000km</td>\n      <td>11</td>\n      <td>diesel</td>\n      <td>audi</td>\n      <td>nein</td>\n      <td>2016-03-08 00:00:00</td>\n      <td>0</td>\n      <td>35683</td>\n      <td>2016-04-05 16:45:07</td>\n    </tr>\n    <tr>\n      <th>49999</th>\n      <td>2016-03-14 00:42:12</td>\n      <td>Opel_Vectra_1.6_16V</td>\n      <td>privat</td>\n      <td>Angebot</td>\n      <td>$1,250</td>\n      <td>control</td>\n      <td>limousine</td>\n      <td>1996</td>\n      <td>manuell</td>\n      <td>101</td>\n      <td>vectra</td>\n      <td>150,000km</td>\n      <td>1</td>\n      <td>benzin</td>\n      <td>opel</td>\n      <td>nein</td>\n      <td>2016-03-13 00:00:00</td>\n      <td>0</td>\n      <td>45897</td>\n      <td>2016-04-06 21:18:48</td>\n    </tr>\n  </tbody>\n</table>\n<p>50000 rows × 20 columns</p>\n</div>"
     },
     "metadata": {},
     "execution_count": 3
    }
   ],
   "source": [
    "autos"
   ]
  },
  {
   "cell_type": "code",
   "execution_count": 4,
   "metadata": {
    "collapsed": false
   },
   "outputs": [
    {
     "output_type": "stream",
     "name": "stdout",
     "text": [
      "<class 'pandas.core.frame.DataFrame'>\nRangeIndex: 50000 entries, 0 to 49999\nData columns (total 20 columns):\n #   Column               Non-Null Count  Dtype \n---  ------               --------------  ----- \n 0   dateCrawled          50000 non-null  object\n 1   name                 50000 non-null  object\n 2   seller               50000 non-null  object\n 3   offerType            50000 non-null  object\n 4   price                50000 non-null  object\n 5   abtest               50000 non-null  object\n 6   vehicleType          44905 non-null  object\n 7   yearOfRegistration   50000 non-null  int64 \n 8   gearbox              47320 non-null  object\n 9   powerPS              50000 non-null  int64 \n 10  model                47242 non-null  object\n 11  odometer             50000 non-null  object\n 12  monthOfRegistration  50000 non-null  int64 \n 13  fuelType             45518 non-null  object\n 14  brand                50000 non-null  object\n 15  notRepairedDamage    40171 non-null  object\n 16  dateCreated          50000 non-null  object\n 17  nrOfPictures         50000 non-null  int64 \n 18  postalCode           50000 non-null  int64 \n 19  lastSeen             50000 non-null  object\ndtypes: int64(5), object(15)\nmemory usage: 7.6+ MB\n"
     ]
    }
   ],
   "source": [
    "autos.info()"
   ]
  },
  {
   "cell_type": "code",
   "execution_count": 5,
   "metadata": {
    "collapsed": false
   },
   "outputs": [
    {
     "output_type": "execute_result",
     "data": {
      "text/plain": [
       "           dateCrawled                                               name  \\\n",
       "0  2016-03-26 17:47:46                   Peugeot_807_160_NAVTECH_ON_BOARD   \n",
       "1  2016-04-04 13:38:56         BMW_740i_4_4_Liter_HAMANN_UMBAU_Mega_Optik   \n",
       "2  2016-03-26 18:57:24                         Volkswagen_Golf_1.6_United   \n",
       "3  2016-03-12 16:58:10  Smart_smart_fortwo_coupe_softouch/F1/Klima/Pan...   \n",
       "4  2016-04-01 14:38:50  Ford_Focus_1_6_Benzin_TÜV_neu_ist_sehr_gepfleg...   \n",
       "\n",
       "   seller offerType   price   abtest vehicleType  yearOfRegistration  \\\n",
       "0  privat   Angebot  $5,000  control         bus                2004   \n",
       "1  privat   Angebot  $8,500  control   limousine                1997   \n",
       "2  privat   Angebot  $8,990     test   limousine                2009   \n",
       "3  privat   Angebot  $4,350  control  kleinwagen                2007   \n",
       "4  privat   Angebot  $1,350     test       kombi                2003   \n",
       "\n",
       "     gearbox  powerPS   model   odometer  monthOfRegistration fuelType  \\\n",
       "0    manuell      158  andere  150,000km                    3      lpg   \n",
       "1  automatik      286     7er  150,000km                    6   benzin   \n",
       "2    manuell      102    golf   70,000km                    7   benzin   \n",
       "3  automatik       71  fortwo   70,000km                    6   benzin   \n",
       "4    manuell        0   focus  150,000km                    7   benzin   \n",
       "\n",
       "        brand notRepairedDamage          dateCreated  nrOfPictures  \\\n",
       "0     peugeot              nein  2016-03-26 00:00:00             0   \n",
       "1         bmw              nein  2016-04-04 00:00:00             0   \n",
       "2  volkswagen              nein  2016-03-26 00:00:00             0   \n",
       "3       smart              nein  2016-03-12 00:00:00             0   \n",
       "4        ford              nein  2016-04-01 00:00:00             0   \n",
       "\n",
       "   postalCode             lastSeen  \n",
       "0       79588  2016-04-06 06:45:54  \n",
       "1       71034  2016-04-06 14:45:08  \n",
       "2       35394  2016-04-06 20:15:37  \n",
       "3       33729  2016-03-15 03:16:28  \n",
       "4       39218  2016-04-01 14:38:50  "
      ],
      "text/html": "<div>\n<style scoped>\n    .dataframe tbody tr th:only-of-type {\n        vertical-align: middle;\n    }\n\n    .dataframe tbody tr th {\n        vertical-align: top;\n    }\n\n    .dataframe thead th {\n        text-align: right;\n    }\n</style>\n<table border=\"1\" class=\"dataframe\">\n  <thead>\n    <tr style=\"text-align: right;\">\n      <th></th>\n      <th>dateCrawled</th>\n      <th>name</th>\n      <th>seller</th>\n      <th>offerType</th>\n      <th>price</th>\n      <th>abtest</th>\n      <th>vehicleType</th>\n      <th>yearOfRegistration</th>\n      <th>gearbox</th>\n      <th>powerPS</th>\n      <th>model</th>\n      <th>odometer</th>\n      <th>monthOfRegistration</th>\n      <th>fuelType</th>\n      <th>brand</th>\n      <th>notRepairedDamage</th>\n      <th>dateCreated</th>\n      <th>nrOfPictures</th>\n      <th>postalCode</th>\n      <th>lastSeen</th>\n    </tr>\n  </thead>\n  <tbody>\n    <tr>\n      <th>0</th>\n      <td>2016-03-26 17:47:46</td>\n      <td>Peugeot_807_160_NAVTECH_ON_BOARD</td>\n      <td>privat</td>\n      <td>Angebot</td>\n      <td>$5,000</td>\n      <td>control</td>\n      <td>bus</td>\n      <td>2004</td>\n      <td>manuell</td>\n      <td>158</td>\n      <td>andere</td>\n      <td>150,000km</td>\n      <td>3</td>\n      <td>lpg</td>\n      <td>peugeot</td>\n      <td>nein</td>\n      <td>2016-03-26 00:00:00</td>\n      <td>0</td>\n      <td>79588</td>\n      <td>2016-04-06 06:45:54</td>\n    </tr>\n    <tr>\n      <th>1</th>\n      <td>2016-04-04 13:38:56</td>\n      <td>BMW_740i_4_4_Liter_HAMANN_UMBAU_Mega_Optik</td>\n      <td>privat</td>\n      <td>Angebot</td>\n      <td>$8,500</td>\n      <td>control</td>\n      <td>limousine</td>\n      <td>1997</td>\n      <td>automatik</td>\n      <td>286</td>\n      <td>7er</td>\n      <td>150,000km</td>\n      <td>6</td>\n      <td>benzin</td>\n      <td>bmw</td>\n      <td>nein</td>\n      <td>2016-04-04 00:00:00</td>\n      <td>0</td>\n      <td>71034</td>\n      <td>2016-04-06 14:45:08</td>\n    </tr>\n    <tr>\n      <th>2</th>\n      <td>2016-03-26 18:57:24</td>\n      <td>Volkswagen_Golf_1.6_United</td>\n      <td>privat</td>\n      <td>Angebot</td>\n      <td>$8,990</td>\n      <td>test</td>\n      <td>limousine</td>\n      <td>2009</td>\n      <td>manuell</td>\n      <td>102</td>\n      <td>golf</td>\n      <td>70,000km</td>\n      <td>7</td>\n      <td>benzin</td>\n      <td>volkswagen</td>\n      <td>nein</td>\n      <td>2016-03-26 00:00:00</td>\n      <td>0</td>\n      <td>35394</td>\n      <td>2016-04-06 20:15:37</td>\n    </tr>\n    <tr>\n      <th>3</th>\n      <td>2016-03-12 16:58:10</td>\n      <td>Smart_smart_fortwo_coupe_softouch/F1/Klima/Pan...</td>\n      <td>privat</td>\n      <td>Angebot</td>\n      <td>$4,350</td>\n      <td>control</td>\n      <td>kleinwagen</td>\n      <td>2007</td>\n      <td>automatik</td>\n      <td>71</td>\n      <td>fortwo</td>\n      <td>70,000km</td>\n      <td>6</td>\n      <td>benzin</td>\n      <td>smart</td>\n      <td>nein</td>\n      <td>2016-03-12 00:00:00</td>\n      <td>0</td>\n      <td>33729</td>\n      <td>2016-03-15 03:16:28</td>\n    </tr>\n    <tr>\n      <th>4</th>\n      <td>2016-04-01 14:38:50</td>\n      <td>Ford_Focus_1_6_Benzin_TÜV_neu_ist_sehr_gepfleg...</td>\n      <td>privat</td>\n      <td>Angebot</td>\n      <td>$1,350</td>\n      <td>test</td>\n      <td>kombi</td>\n      <td>2003</td>\n      <td>manuell</td>\n      <td>0</td>\n      <td>focus</td>\n      <td>150,000km</td>\n      <td>7</td>\n      <td>benzin</td>\n      <td>ford</td>\n      <td>nein</td>\n      <td>2016-04-01 00:00:00</td>\n      <td>0</td>\n      <td>39218</td>\n      <td>2016-04-01 14:38:50</td>\n    </tr>\n  </tbody>\n</table>\n</div>"
     },
     "metadata": {},
     "execution_count": 5
    }
   ],
   "source": [
    "autos.head()"
   ]
  },
  {
   "cell_type": "markdown",
   "metadata": {},
   "source": [
    "### The dataset contains 20 columns, most of which are strings.\n",
    "\n",
    " Some columns have null values, but none have more than ~20% null values.\n",
    "\n",
    "The column names use camelcase instead of Python's preferred snakecase, which means we cannot just replace spaces with underscores, here we will use df.coloumns attribute to replace camelcase with snakcase"
   ]
  },
  {
   "cell_type": "code",
   "execution_count": 6,
   "metadata": {
    "collapsed": false
   },
   "outputs": [
    {
     "output_type": "execute_result",
     "data": {
      "text/plain": [
       "Index(['dateCrawled', 'name', 'seller', 'offerType', 'price', 'abtest',\n",
       "       'vehicleType', 'yearOfRegistration', 'gearbox', 'powerPS', 'model',\n",
       "       'odometer', 'monthOfRegistration', 'fuelType', 'brand',\n",
       "       'notRepairedDamage', 'dateCreated', 'nrOfPictures', 'postalCode',\n",
       "       'lastSeen'],\n",
       "      dtype='object')"
      ]
     },
     "metadata": {},
     "execution_count": 6
    }
   ],
   "source": [
    "autos.columns"
   ]
  },
  {
   "cell_type": "markdown",
   "metadata": {},
   "source": [
    "We will change the columns from camelcase to Snakecase for e.g:\n",
    "* yearOfRegistration to registration_year\n",
    "* monthOfRegistration to registration_month\n",
    "* notRepairedDamage to unrepaired_damage\n",
    "* dateCreated to ad_created\n",
    "   \n",
    "  And for the rest of the column names."
   ]
  },
  {
   "cell_type": "code",
   "execution_count": 7,
   "metadata": {
    "collapsed": false
   },
   "outputs": [],
   "source": [
    "arr=['date_crawled', 'name', 'seller', 'offer_type', 'price', 'abtest',\n",
    "       'vehicle_type', 'year_of_registration', 'gearbox', 'power_pS', 'model',\n",
    "       'odometer', 'month_of_registration', 'fuel_type', 'brand',\n",
    "       'not_repaired_damage', 'date_created', 'nr_of_pictures', 'postal_code',\n",
    "       'last_seen']\n",
    "autos.columns=arr"
   ]
  },
  {
   "cell_type": "code",
   "execution_count": 8,
   "metadata": {
    "collapsed": false
   },
   "outputs": [
    {
     "output_type": "execute_result",
     "data": {
      "text/plain": [
       "          date_crawled                                               name  \\\n",
       "0  2016-03-26 17:47:46                   Peugeot_807_160_NAVTECH_ON_BOARD   \n",
       "1  2016-04-04 13:38:56         BMW_740i_4_4_Liter_HAMANN_UMBAU_Mega_Optik   \n",
       "2  2016-03-26 18:57:24                         Volkswagen_Golf_1.6_United   \n",
       "3  2016-03-12 16:58:10  Smart_smart_fortwo_coupe_softouch/F1/Klima/Pan...   \n",
       "4  2016-04-01 14:38:50  Ford_Focus_1_6_Benzin_TÜV_neu_ist_sehr_gepfleg...   \n",
       "\n",
       "   seller offer_type   price   abtest vehicle_type  year_of_registration  \\\n",
       "0  privat    Angebot  $5,000  control          bus                  2004   \n",
       "1  privat    Angebot  $8,500  control    limousine                  1997   \n",
       "2  privat    Angebot  $8,990     test    limousine                  2009   \n",
       "3  privat    Angebot  $4,350  control   kleinwagen                  2007   \n",
       "4  privat    Angebot  $1,350     test        kombi                  2003   \n",
       "\n",
       "     gearbox  power_pS   model   odometer  month_of_registration fuel_type  \\\n",
       "0    manuell       158  andere  150,000km                      3       lpg   \n",
       "1  automatik       286     7er  150,000km                      6    benzin   \n",
       "2    manuell       102    golf   70,000km                      7    benzin   \n",
       "3  automatik        71  fortwo   70,000km                      6    benzin   \n",
       "4    manuell         0   focus  150,000km                      7    benzin   \n",
       "\n",
       "        brand not_repaired_damage         date_created  nr_of_pictures  \\\n",
       "0     peugeot                nein  2016-03-26 00:00:00               0   \n",
       "1         bmw                nein  2016-04-04 00:00:00               0   \n",
       "2  volkswagen                nein  2016-03-26 00:00:00               0   \n",
       "3       smart                nein  2016-03-12 00:00:00               0   \n",
       "4        ford                nein  2016-04-01 00:00:00               0   \n",
       "\n",
       "   postal_code            last_seen  \n",
       "0        79588  2016-04-06 06:45:54  \n",
       "1        71034  2016-04-06 14:45:08  \n",
       "2        35394  2016-04-06 20:15:37  \n",
       "3        33729  2016-03-15 03:16:28  \n",
       "4        39218  2016-04-01 14:38:50  "
      ],
      "text/html": "<div>\n<style scoped>\n    .dataframe tbody tr th:only-of-type {\n        vertical-align: middle;\n    }\n\n    .dataframe tbody tr th {\n        vertical-align: top;\n    }\n\n    .dataframe thead th {\n        text-align: right;\n    }\n</style>\n<table border=\"1\" class=\"dataframe\">\n  <thead>\n    <tr style=\"text-align: right;\">\n      <th></th>\n      <th>date_crawled</th>\n      <th>name</th>\n      <th>seller</th>\n      <th>offer_type</th>\n      <th>price</th>\n      <th>abtest</th>\n      <th>vehicle_type</th>\n      <th>year_of_registration</th>\n      <th>gearbox</th>\n      <th>power_pS</th>\n      <th>model</th>\n      <th>odometer</th>\n      <th>month_of_registration</th>\n      <th>fuel_type</th>\n      <th>brand</th>\n      <th>not_repaired_damage</th>\n      <th>date_created</th>\n      <th>nr_of_pictures</th>\n      <th>postal_code</th>\n      <th>last_seen</th>\n    </tr>\n  </thead>\n  <tbody>\n    <tr>\n      <th>0</th>\n      <td>2016-03-26 17:47:46</td>\n      <td>Peugeot_807_160_NAVTECH_ON_BOARD</td>\n      <td>privat</td>\n      <td>Angebot</td>\n      <td>$5,000</td>\n      <td>control</td>\n      <td>bus</td>\n      <td>2004</td>\n      <td>manuell</td>\n      <td>158</td>\n      <td>andere</td>\n      <td>150,000km</td>\n      <td>3</td>\n      <td>lpg</td>\n      <td>peugeot</td>\n      <td>nein</td>\n      <td>2016-03-26 00:00:00</td>\n      <td>0</td>\n      <td>79588</td>\n      <td>2016-04-06 06:45:54</td>\n    </tr>\n    <tr>\n      <th>1</th>\n      <td>2016-04-04 13:38:56</td>\n      <td>BMW_740i_4_4_Liter_HAMANN_UMBAU_Mega_Optik</td>\n      <td>privat</td>\n      <td>Angebot</td>\n      <td>$8,500</td>\n      <td>control</td>\n      <td>limousine</td>\n      <td>1997</td>\n      <td>automatik</td>\n      <td>286</td>\n      <td>7er</td>\n      <td>150,000km</td>\n      <td>6</td>\n      <td>benzin</td>\n      <td>bmw</td>\n      <td>nein</td>\n      <td>2016-04-04 00:00:00</td>\n      <td>0</td>\n      <td>71034</td>\n      <td>2016-04-06 14:45:08</td>\n    </tr>\n    <tr>\n      <th>2</th>\n      <td>2016-03-26 18:57:24</td>\n      <td>Volkswagen_Golf_1.6_United</td>\n      <td>privat</td>\n      <td>Angebot</td>\n      <td>$8,990</td>\n      <td>test</td>\n      <td>limousine</td>\n      <td>2009</td>\n      <td>manuell</td>\n      <td>102</td>\n      <td>golf</td>\n      <td>70,000km</td>\n      <td>7</td>\n      <td>benzin</td>\n      <td>volkswagen</td>\n      <td>nein</td>\n      <td>2016-03-26 00:00:00</td>\n      <td>0</td>\n      <td>35394</td>\n      <td>2016-04-06 20:15:37</td>\n    </tr>\n    <tr>\n      <th>3</th>\n      <td>2016-03-12 16:58:10</td>\n      <td>Smart_smart_fortwo_coupe_softouch/F1/Klima/Pan...</td>\n      <td>privat</td>\n      <td>Angebot</td>\n      <td>$4,350</td>\n      <td>control</td>\n      <td>kleinwagen</td>\n      <td>2007</td>\n      <td>automatik</td>\n      <td>71</td>\n      <td>fortwo</td>\n      <td>70,000km</td>\n      <td>6</td>\n      <td>benzin</td>\n      <td>smart</td>\n      <td>nein</td>\n      <td>2016-03-12 00:00:00</td>\n      <td>0</td>\n      <td>33729</td>\n      <td>2016-03-15 03:16:28</td>\n    </tr>\n    <tr>\n      <th>4</th>\n      <td>2016-04-01 14:38:50</td>\n      <td>Ford_Focus_1_6_Benzin_TÜV_neu_ist_sehr_gepfleg...</td>\n      <td>privat</td>\n      <td>Angebot</td>\n      <td>$1,350</td>\n      <td>test</td>\n      <td>kombi</td>\n      <td>2003</td>\n      <td>manuell</td>\n      <td>0</td>\n      <td>focus</td>\n      <td>150,000km</td>\n      <td>7</td>\n      <td>benzin</td>\n      <td>ford</td>\n      <td>nein</td>\n      <td>2016-04-01 00:00:00</td>\n      <td>0</td>\n      <td>39218</td>\n      <td>2016-04-01 14:38:50</td>\n    </tr>\n  </tbody>\n</table>\n</div>"
     },
     "metadata": {},
     "execution_count": 8
    }
   ],
   "source": [
    "autos.head()"
   ]
  },
  {
   "cell_type": "code",
   "execution_count": 9,
   "metadata": {
    "collapsed": false
   },
   "outputs": [
    {
     "output_type": "execute_result",
     "data": {
      "text/plain": [
       "               date_crawled         name  seller offer_type  price abtest  \\\n",
       "count                 50000        50000   50000      50000  50000  50000   \n",
       "unique                48213        38754       2          2   2357      2   \n",
       "top     2016-03-23 19:38:20  Ford_Fiesta  privat    Angebot     $0   test   \n",
       "freq                      3           78   49999      49999   1421  25756   \n",
       "mean                    NaN          NaN     NaN        NaN    NaN    NaN   \n",
       "std                     NaN          NaN     NaN        NaN    NaN    NaN   \n",
       "min                     NaN          NaN     NaN        NaN    NaN    NaN   \n",
       "25%                     NaN          NaN     NaN        NaN    NaN    NaN   \n",
       "50%                     NaN          NaN     NaN        NaN    NaN    NaN   \n",
       "75%                     NaN          NaN     NaN        NaN    NaN    NaN   \n",
       "max                     NaN          NaN     NaN        NaN    NaN    NaN   \n",
       "\n",
       "       vehicle_type  year_of_registration  gearbox      power_pS  model  \\\n",
       "count         44905          50000.000000    47320  50000.000000  47242   \n",
       "unique            8                   NaN        2           NaN    245   \n",
       "top       limousine                   NaN  manuell           NaN   golf   \n",
       "freq          12859                   NaN    36993           NaN   4024   \n",
       "mean            NaN           2005.073280      NaN    116.355920    NaN   \n",
       "std             NaN            105.712813      NaN    209.216627    NaN   \n",
       "min             NaN           1000.000000      NaN      0.000000    NaN   \n",
       "25%             NaN           1999.000000      NaN     70.000000    NaN   \n",
       "50%             NaN           2003.000000      NaN    105.000000    NaN   \n",
       "75%             NaN           2008.000000      NaN    150.000000    NaN   \n",
       "max             NaN           9999.000000      NaN  17700.000000    NaN   \n",
       "\n",
       "         odometer  month_of_registration fuel_type       brand  \\\n",
       "count       50000           50000.000000     45518       50000   \n",
       "unique         13                    NaN         7          40   \n",
       "top     150,000km                    NaN    benzin  volkswagen   \n",
       "freq        32424                    NaN     30107       10687   \n",
       "mean          NaN               5.723360       NaN         NaN   \n",
       "std           NaN               3.711984       NaN         NaN   \n",
       "min           NaN               0.000000       NaN         NaN   \n",
       "25%           NaN               3.000000       NaN         NaN   \n",
       "50%           NaN               6.000000       NaN         NaN   \n",
       "75%           NaN               9.000000       NaN         NaN   \n",
       "max           NaN              12.000000       NaN         NaN   \n",
       "\n",
       "       not_repaired_damage         date_created  nr_of_pictures   postal_code  \\\n",
       "count                40171                50000         50000.0  50000.000000   \n",
       "unique                   2                   76             NaN           NaN   \n",
       "top                   nein  2016-04-03 00:00:00             NaN           NaN   \n",
       "freq                 35232                 1946             NaN           NaN   \n",
       "mean                   NaN                  NaN             0.0  50813.627300   \n",
       "std                    NaN                  NaN             0.0  25779.747957   \n",
       "min                    NaN                  NaN             0.0   1067.000000   \n",
       "25%                    NaN                  NaN             0.0  30451.000000   \n",
       "50%                    NaN                  NaN             0.0  49577.000000   \n",
       "75%                    NaN                  NaN             0.0  71540.000000   \n",
       "max                    NaN                  NaN             0.0  99998.000000   \n",
       "\n",
       "                  last_seen  \n",
       "count                 50000  \n",
       "unique                39481  \n",
       "top     2016-04-07 06:17:27  \n",
       "freq                      8  \n",
       "mean                    NaN  \n",
       "std                     NaN  \n",
       "min                     NaN  \n",
       "25%                     NaN  \n",
       "50%                     NaN  \n",
       "75%                     NaN  \n",
       "max                     NaN  "
      ],
      "text/html": "<div>\n<style scoped>\n    .dataframe tbody tr th:only-of-type {\n        vertical-align: middle;\n    }\n\n    .dataframe tbody tr th {\n        vertical-align: top;\n    }\n\n    .dataframe thead th {\n        text-align: right;\n    }\n</style>\n<table border=\"1\" class=\"dataframe\">\n  <thead>\n    <tr style=\"text-align: right;\">\n      <th></th>\n      <th>date_crawled</th>\n      <th>name</th>\n      <th>seller</th>\n      <th>offer_type</th>\n      <th>price</th>\n      <th>abtest</th>\n      <th>vehicle_type</th>\n      <th>year_of_registration</th>\n      <th>gearbox</th>\n      <th>power_pS</th>\n      <th>model</th>\n      <th>odometer</th>\n      <th>month_of_registration</th>\n      <th>fuel_type</th>\n      <th>brand</th>\n      <th>not_repaired_damage</th>\n      <th>date_created</th>\n      <th>nr_of_pictures</th>\n      <th>postal_code</th>\n      <th>last_seen</th>\n    </tr>\n  </thead>\n  <tbody>\n    <tr>\n      <th>count</th>\n      <td>50000</td>\n      <td>50000</td>\n      <td>50000</td>\n      <td>50000</td>\n      <td>50000</td>\n      <td>50000</td>\n      <td>44905</td>\n      <td>50000.000000</td>\n      <td>47320</td>\n      <td>50000.000000</td>\n      <td>47242</td>\n      <td>50000</td>\n      <td>50000.000000</td>\n      <td>45518</td>\n      <td>50000</td>\n      <td>40171</td>\n      <td>50000</td>\n      <td>50000.0</td>\n      <td>50000.000000</td>\n      <td>50000</td>\n    </tr>\n    <tr>\n      <th>unique</th>\n      <td>48213</td>\n      <td>38754</td>\n      <td>2</td>\n      <td>2</td>\n      <td>2357</td>\n      <td>2</td>\n      <td>8</td>\n      <td>NaN</td>\n      <td>2</td>\n      <td>NaN</td>\n      <td>245</td>\n      <td>13</td>\n      <td>NaN</td>\n      <td>7</td>\n      <td>40</td>\n      <td>2</td>\n      <td>76</td>\n      <td>NaN</td>\n      <td>NaN</td>\n      <td>39481</td>\n    </tr>\n    <tr>\n      <th>top</th>\n      <td>2016-03-23 19:38:20</td>\n      <td>Ford_Fiesta</td>\n      <td>privat</td>\n      <td>Angebot</td>\n      <td>$0</td>\n      <td>test</td>\n      <td>limousine</td>\n      <td>NaN</td>\n      <td>manuell</td>\n      <td>NaN</td>\n      <td>golf</td>\n      <td>150,000km</td>\n      <td>NaN</td>\n      <td>benzin</td>\n      <td>volkswagen</td>\n      <td>nein</td>\n      <td>2016-04-03 00:00:00</td>\n      <td>NaN</td>\n      <td>NaN</td>\n      <td>2016-04-07 06:17:27</td>\n    </tr>\n    <tr>\n      <th>freq</th>\n      <td>3</td>\n      <td>78</td>\n      <td>49999</td>\n      <td>49999</td>\n      <td>1421</td>\n      <td>25756</td>\n      <td>12859</td>\n      <td>NaN</td>\n      <td>36993</td>\n      <td>NaN</td>\n      <td>4024</td>\n      <td>32424</td>\n      <td>NaN</td>\n      <td>30107</td>\n      <td>10687</td>\n      <td>35232</td>\n      <td>1946</td>\n      <td>NaN</td>\n      <td>NaN</td>\n      <td>8</td>\n    </tr>\n    <tr>\n      <th>mean</th>\n      <td>NaN</td>\n      <td>NaN</td>\n      <td>NaN</td>\n      <td>NaN</td>\n      <td>NaN</td>\n      <td>NaN</td>\n      <td>NaN</td>\n      <td>2005.073280</td>\n      <td>NaN</td>\n      <td>116.355920</td>\n      <td>NaN</td>\n      <td>NaN</td>\n      <td>5.723360</td>\n      <td>NaN</td>\n      <td>NaN</td>\n      <td>NaN</td>\n      <td>NaN</td>\n      <td>0.0</td>\n      <td>50813.627300</td>\n      <td>NaN</td>\n    </tr>\n    <tr>\n      <th>std</th>\n      <td>NaN</td>\n      <td>NaN</td>\n      <td>NaN</td>\n      <td>NaN</td>\n      <td>NaN</td>\n      <td>NaN</td>\n      <td>NaN</td>\n      <td>105.712813</td>\n      <td>NaN</td>\n      <td>209.216627</td>\n      <td>NaN</td>\n      <td>NaN</td>\n      <td>3.711984</td>\n      <td>NaN</td>\n      <td>NaN</td>\n      <td>NaN</td>\n      <td>NaN</td>\n      <td>0.0</td>\n      <td>25779.747957</td>\n      <td>NaN</td>\n    </tr>\n    <tr>\n      <th>min</th>\n      <td>NaN</td>\n      <td>NaN</td>\n      <td>NaN</td>\n      <td>NaN</td>\n      <td>NaN</td>\n      <td>NaN</td>\n      <td>NaN</td>\n      <td>1000.000000</td>\n      <td>NaN</td>\n      <td>0.000000</td>\n      <td>NaN</td>\n      <td>NaN</td>\n      <td>0.000000</td>\n      <td>NaN</td>\n      <td>NaN</td>\n      <td>NaN</td>\n      <td>NaN</td>\n      <td>0.0</td>\n      <td>1067.000000</td>\n      <td>NaN</td>\n    </tr>\n    <tr>\n      <th>25%</th>\n      <td>NaN</td>\n      <td>NaN</td>\n      <td>NaN</td>\n      <td>NaN</td>\n      <td>NaN</td>\n      <td>NaN</td>\n      <td>NaN</td>\n      <td>1999.000000</td>\n      <td>NaN</td>\n      <td>70.000000</td>\n      <td>NaN</td>\n      <td>NaN</td>\n      <td>3.000000</td>\n      <td>NaN</td>\n      <td>NaN</td>\n      <td>NaN</td>\n      <td>NaN</td>\n      <td>0.0</td>\n      <td>30451.000000</td>\n      <td>NaN</td>\n    </tr>\n    <tr>\n      <th>50%</th>\n      <td>NaN</td>\n      <td>NaN</td>\n      <td>NaN</td>\n      <td>NaN</td>\n      <td>NaN</td>\n      <td>NaN</td>\n      <td>NaN</td>\n      <td>2003.000000</td>\n      <td>NaN</td>\n      <td>105.000000</td>\n      <td>NaN</td>\n      <td>NaN</td>\n      <td>6.000000</td>\n      <td>NaN</td>\n      <td>NaN</td>\n      <td>NaN</td>\n      <td>NaN</td>\n      <td>0.0</td>\n      <td>49577.000000</td>\n      <td>NaN</td>\n    </tr>\n    <tr>\n      <th>75%</th>\n      <td>NaN</td>\n      <td>NaN</td>\n      <td>NaN</td>\n      <td>NaN</td>\n      <td>NaN</td>\n      <td>NaN</td>\n      <td>NaN</td>\n      <td>2008.000000</td>\n      <td>NaN</td>\n      <td>150.000000</td>\n      <td>NaN</td>\n      <td>NaN</td>\n      <td>9.000000</td>\n      <td>NaN</td>\n      <td>NaN</td>\n      <td>NaN</td>\n      <td>NaN</td>\n      <td>0.0</td>\n      <td>71540.000000</td>\n      <td>NaN</td>\n    </tr>\n    <tr>\n      <th>max</th>\n      <td>NaN</td>\n      <td>NaN</td>\n      <td>NaN</td>\n      <td>NaN</td>\n      <td>NaN</td>\n      <td>NaN</td>\n      <td>NaN</td>\n      <td>9999.000000</td>\n      <td>NaN</td>\n      <td>17700.000000</td>\n      <td>NaN</td>\n      <td>NaN</td>\n      <td>12.000000</td>\n      <td>NaN</td>\n      <td>NaN</td>\n      <td>NaN</td>\n      <td>NaN</td>\n      <td>0.0</td>\n      <td>99998.000000</td>\n      <td>NaN</td>\n    </tr>\n  </tbody>\n</table>\n</div>"
     },
     "metadata": {},
     "execution_count": 9
    }
   ],
   "source": [
    "autos.describe(include=\"all\")"
   ]
  },
  {
   "cell_type": "markdown",
   "metadata": {},
   "source": [
    "Notes:-\n",
    "* Any columns that have mostly one value that are candidates to be dropped\n",
    "* Any columns that need more investigation.\n",
    "* Any examples of numeric data stored as text that needs to be cleaned.\n",
    "\n",
    "From above we can see that nr_of_pictures can be drop , because their no use analyse such coloumn. \n",
    "\n",
    "The seller and offer_type has same kind of repeated values"
   ]
  },
  {
   "cell_type": "code",
   "execution_count": 10,
   "metadata": {
    "collapsed": false
   },
   "outputs": [],
   "source": [
    "autos[\"price\"]=autos[\"price\"].str.replace(\"$\",\"\").str.replace(\",\",\"\").astype(float)"
   ]
  },
  {
   "cell_type": "code",
   "execution_count": 11,
   "metadata": {
    "collapsed": true
   },
   "outputs": [],
   "source": [
    "autos[\"odometer\"]=autos[\"odometer\"].str.replace(\"km\",\"\").str.replace(\",\",\"\").astype(float)"
   ]
  },
  {
   "cell_type": "code",
   "execution_count": 12,
   "metadata": {
    "collapsed": false
   },
   "outputs": [],
   "source": [
    "autos.rename({\"odometer\":\"odometer_km\"},axis=1,inplace=True)"
   ]
  },
  {
   "cell_type": "code",
   "execution_count": 13,
   "metadata": {
    "collapsed": false
   },
   "outputs": [
    {
     "output_type": "execute_result",
     "data": {
      "text/plain": [
       "          date_crawled                                               name  \\\n",
       "0  2016-03-26 17:47:46                   Peugeot_807_160_NAVTECH_ON_BOARD   \n",
       "1  2016-04-04 13:38:56         BMW_740i_4_4_Liter_HAMANN_UMBAU_Mega_Optik   \n",
       "2  2016-03-26 18:57:24                         Volkswagen_Golf_1.6_United   \n",
       "3  2016-03-12 16:58:10  Smart_smart_fortwo_coupe_softouch/F1/Klima/Pan...   \n",
       "4  2016-04-01 14:38:50  Ford_Focus_1_6_Benzin_TÜV_neu_ist_sehr_gepfleg...   \n",
       "\n",
       "   seller offer_type   price   abtest vehicle_type  year_of_registration  \\\n",
       "0  privat    Angebot  5000.0  control          bus                  2004   \n",
       "1  privat    Angebot  8500.0  control    limousine                  1997   \n",
       "2  privat    Angebot  8990.0     test    limousine                  2009   \n",
       "3  privat    Angebot  4350.0  control   kleinwagen                  2007   \n",
       "4  privat    Angebot  1350.0     test        kombi                  2003   \n",
       "\n",
       "     gearbox  power_pS   model  odometer_km  month_of_registration fuel_type  \\\n",
       "0    manuell       158  andere     150000.0                      3       lpg   \n",
       "1  automatik       286     7er     150000.0                      6    benzin   \n",
       "2    manuell       102    golf      70000.0                      7    benzin   \n",
       "3  automatik        71  fortwo      70000.0                      6    benzin   \n",
       "4    manuell         0   focus     150000.0                      7    benzin   \n",
       "\n",
       "        brand not_repaired_damage         date_created  nr_of_pictures  \\\n",
       "0     peugeot                nein  2016-03-26 00:00:00               0   \n",
       "1         bmw                nein  2016-04-04 00:00:00               0   \n",
       "2  volkswagen                nein  2016-03-26 00:00:00               0   \n",
       "3       smart                nein  2016-03-12 00:00:00               0   \n",
       "4        ford                nein  2016-04-01 00:00:00               0   \n",
       "\n",
       "   postal_code            last_seen  \n",
       "0        79588  2016-04-06 06:45:54  \n",
       "1        71034  2016-04-06 14:45:08  \n",
       "2        35394  2016-04-06 20:15:37  \n",
       "3        33729  2016-03-15 03:16:28  \n",
       "4        39218  2016-04-01 14:38:50  "
      ],
      "text/html": "<div>\n<style scoped>\n    .dataframe tbody tr th:only-of-type {\n        vertical-align: middle;\n    }\n\n    .dataframe tbody tr th {\n        vertical-align: top;\n    }\n\n    .dataframe thead th {\n        text-align: right;\n    }\n</style>\n<table border=\"1\" class=\"dataframe\">\n  <thead>\n    <tr style=\"text-align: right;\">\n      <th></th>\n      <th>date_crawled</th>\n      <th>name</th>\n      <th>seller</th>\n      <th>offer_type</th>\n      <th>price</th>\n      <th>abtest</th>\n      <th>vehicle_type</th>\n      <th>year_of_registration</th>\n      <th>gearbox</th>\n      <th>power_pS</th>\n      <th>model</th>\n      <th>odometer_km</th>\n      <th>month_of_registration</th>\n      <th>fuel_type</th>\n      <th>brand</th>\n      <th>not_repaired_damage</th>\n      <th>date_created</th>\n      <th>nr_of_pictures</th>\n      <th>postal_code</th>\n      <th>last_seen</th>\n    </tr>\n  </thead>\n  <tbody>\n    <tr>\n      <th>0</th>\n      <td>2016-03-26 17:47:46</td>\n      <td>Peugeot_807_160_NAVTECH_ON_BOARD</td>\n      <td>privat</td>\n      <td>Angebot</td>\n      <td>5000.0</td>\n      <td>control</td>\n      <td>bus</td>\n      <td>2004</td>\n      <td>manuell</td>\n      <td>158</td>\n      <td>andere</td>\n      <td>150000.0</td>\n      <td>3</td>\n      <td>lpg</td>\n      <td>peugeot</td>\n      <td>nein</td>\n      <td>2016-03-26 00:00:00</td>\n      <td>0</td>\n      <td>79588</td>\n      <td>2016-04-06 06:45:54</td>\n    </tr>\n    <tr>\n      <th>1</th>\n      <td>2016-04-04 13:38:56</td>\n      <td>BMW_740i_4_4_Liter_HAMANN_UMBAU_Mega_Optik</td>\n      <td>privat</td>\n      <td>Angebot</td>\n      <td>8500.0</td>\n      <td>control</td>\n      <td>limousine</td>\n      <td>1997</td>\n      <td>automatik</td>\n      <td>286</td>\n      <td>7er</td>\n      <td>150000.0</td>\n      <td>6</td>\n      <td>benzin</td>\n      <td>bmw</td>\n      <td>nein</td>\n      <td>2016-04-04 00:00:00</td>\n      <td>0</td>\n      <td>71034</td>\n      <td>2016-04-06 14:45:08</td>\n    </tr>\n    <tr>\n      <th>2</th>\n      <td>2016-03-26 18:57:24</td>\n      <td>Volkswagen_Golf_1.6_United</td>\n      <td>privat</td>\n      <td>Angebot</td>\n      <td>8990.0</td>\n      <td>test</td>\n      <td>limousine</td>\n      <td>2009</td>\n      <td>manuell</td>\n      <td>102</td>\n      <td>golf</td>\n      <td>70000.0</td>\n      <td>7</td>\n      <td>benzin</td>\n      <td>volkswagen</td>\n      <td>nein</td>\n      <td>2016-03-26 00:00:00</td>\n      <td>0</td>\n      <td>35394</td>\n      <td>2016-04-06 20:15:37</td>\n    </tr>\n    <tr>\n      <th>3</th>\n      <td>2016-03-12 16:58:10</td>\n      <td>Smart_smart_fortwo_coupe_softouch/F1/Klima/Pan...</td>\n      <td>privat</td>\n      <td>Angebot</td>\n      <td>4350.0</td>\n      <td>control</td>\n      <td>kleinwagen</td>\n      <td>2007</td>\n      <td>automatik</td>\n      <td>71</td>\n      <td>fortwo</td>\n      <td>70000.0</td>\n      <td>6</td>\n      <td>benzin</td>\n      <td>smart</td>\n      <td>nein</td>\n      <td>2016-03-12 00:00:00</td>\n      <td>0</td>\n      <td>33729</td>\n      <td>2016-03-15 03:16:28</td>\n    </tr>\n    <tr>\n      <th>4</th>\n      <td>2016-04-01 14:38:50</td>\n      <td>Ford_Focus_1_6_Benzin_TÜV_neu_ist_sehr_gepfleg...</td>\n      <td>privat</td>\n      <td>Angebot</td>\n      <td>1350.0</td>\n      <td>test</td>\n      <td>kombi</td>\n      <td>2003</td>\n      <td>manuell</td>\n      <td>0</td>\n      <td>focus</td>\n      <td>150000.0</td>\n      <td>7</td>\n      <td>benzin</td>\n      <td>ford</td>\n      <td>nein</td>\n      <td>2016-04-01 00:00:00</td>\n      <td>0</td>\n      <td>39218</td>\n      <td>2016-04-01 14:38:50</td>\n    </tr>\n  </tbody>\n</table>\n</div>"
     },
     "metadata": {},
     "execution_count": 13
    }
   ],
   "source": [
    "autos.head()"
   ]
  },
  {
   "cell_type": "code",
   "execution_count": 14,
   "metadata": {
    "collapsed": false
   },
   "outputs": [
    {
     "output_type": "stream",
     "name": "stdout",
     "text": [
      "(13,)\n"
     ]
    },
    {
     "output_type": "execute_result",
     "data": {
      "text/plain": [
       "(2357,)"
      ]
     },
     "metadata": {},
     "execution_count": 14
    }
   ],
   "source": [
    "print(autos[\"odometer_km\"].unique().shape)\n",
    "autos[\"price\"].unique().shape"
   ]
  },
  {
   "cell_type": "code",
   "execution_count": 15,
   "metadata": {
    "collapsed": false
   },
   "outputs": [
    {
     "output_type": "stream",
     "name": "stdout",
     "text": [
      "count     50000.000000\nmean     125732.700000\nstd       40042.211706\nmin        5000.000000\n25%      125000.000000\n50%      150000.000000\n75%      150000.000000\nmax      150000.000000\nName: odometer_km, dtype: float64\n"
     ]
    },
    {
     "output_type": "execute_result",
     "data": {
      "text/plain": [
       "count    5.000000e+04\n",
       "mean     9.840044e+03\n",
       "std      4.811044e+05\n",
       "min      0.000000e+00\n",
       "25%      1.100000e+03\n",
       "50%      2.950000e+03\n",
       "75%      7.200000e+03\n",
       "max      1.000000e+08\n",
       "Name: price, dtype: float64"
      ]
     },
     "metadata": {},
     "execution_count": 15
    }
   ],
   "source": [
    "print(autos[\"odometer_km\"].describe())\n",
    "autos[\"price\"].describe()"
   ]
  },
  {
   "cell_type": "code",
   "execution_count": 16,
   "metadata": {
    "collapsed": false
   },
   "outputs": [
    {
     "output_type": "stream",
     "name": "stdout",
     "text": [
      "150000.0    32424\n125000.0     5170\n100000.0     2169\n90000.0      1757\n80000.0      1436\n70000.0      1230\n60000.0      1164\n50000.0      1027\n5000.0        967\n40000.0       819\n30000.0       789\n20000.0       784\n10000.0       264\nName: odometer_km, dtype: int64\n"
     ]
    },
    {
     "output_type": "execute_result",
     "data": {
      "text/plain": [
       "0.0        1421\n",
       "500.0       781\n",
       "1500.0      734\n",
       "2500.0      643\n",
       "1200.0      639\n",
       "           ... \n",
       "6202.0        1\n",
       "18310.0       1\n",
       "898.0         1\n",
       "11240.0       1\n",
       "789.0         1\n",
       "Name: price, Length: 2357, dtype: int64"
      ]
     },
     "metadata": {},
     "execution_count": 16
    }
   ],
   "source": [
    "print(autos[\"odometer_km\"].value_counts(ascending=False))\n",
    "autos[\"price\"].value_counts(ascending=False)"
   ]
  },
  {
   "cell_type": "code",
   "execution_count": 17,
   "metadata": {
    "collapsed": false
   },
   "outputs": [
    {
     "output_type": "stream",
     "name": "stdout",
     "text": [
      "(48231, 20)\n"
     ]
    }
   ],
   "source": [
    "print(autos[autos[\"price\"].between(100,10000000)].shape)\n",
    "autos=autos[autos[\"price\"].between(100,10000000)]"
   ]
  },
  {
   "cell_type": "markdown",
   "metadata": {},
   "source": [
    "I have filter the value in price column that has price less than 100$ because , their almost no car in that range of price "
   ]
  },
  {
   "cell_type": "code",
   "execution_count": 18,
   "metadata": {
    "collapsed": false
   },
   "outputs": [
    {
     "output_type": "execute_result",
     "data": {
      "text/plain": [
       "          date_crawled                                               name  \\\n",
       "0  2016-03-26 17:47:46                   Peugeot_807_160_NAVTECH_ON_BOARD   \n",
       "1  2016-04-04 13:38:56         BMW_740i_4_4_Liter_HAMANN_UMBAU_Mega_Optik   \n",
       "2  2016-03-26 18:57:24                         Volkswagen_Golf_1.6_United   \n",
       "3  2016-03-12 16:58:10  Smart_smart_fortwo_coupe_softouch/F1/Klima/Pan...   \n",
       "4  2016-04-01 14:38:50  Ford_Focus_1_6_Benzin_TÜV_neu_ist_sehr_gepfleg...   \n",
       "\n",
       "   seller offer_type   price   abtest vehicle_type  year_of_registration  \\\n",
       "0  privat    Angebot  5000.0  control          bus                  2004   \n",
       "1  privat    Angebot  8500.0  control    limousine                  1997   \n",
       "2  privat    Angebot  8990.0     test    limousine                  2009   \n",
       "3  privat    Angebot  4350.0  control   kleinwagen                  2007   \n",
       "4  privat    Angebot  1350.0     test        kombi                  2003   \n",
       "\n",
       "     gearbox  power_pS   model  odometer_km  month_of_registration fuel_type  \\\n",
       "0    manuell       158  andere     150000.0                      3       lpg   \n",
       "1  automatik       286     7er     150000.0                      6    benzin   \n",
       "2    manuell       102    golf      70000.0                      7    benzin   \n",
       "3  automatik        71  fortwo      70000.0                      6    benzin   \n",
       "4    manuell         0   focus     150000.0                      7    benzin   \n",
       "\n",
       "        brand not_repaired_damage         date_created  nr_of_pictures  \\\n",
       "0     peugeot                nein  2016-03-26 00:00:00               0   \n",
       "1         bmw                nein  2016-04-04 00:00:00               0   \n",
       "2  volkswagen                nein  2016-03-26 00:00:00               0   \n",
       "3       smart                nein  2016-03-12 00:00:00               0   \n",
       "4        ford                nein  2016-04-01 00:00:00               0   \n",
       "\n",
       "   postal_code            last_seen  \n",
       "0        79588  2016-04-06 06:45:54  \n",
       "1        71034  2016-04-06 14:45:08  \n",
       "2        35394  2016-04-06 20:15:37  \n",
       "3        33729  2016-03-15 03:16:28  \n",
       "4        39218  2016-04-01 14:38:50  "
      ],
      "text/html": "<div>\n<style scoped>\n    .dataframe tbody tr th:only-of-type {\n        vertical-align: middle;\n    }\n\n    .dataframe tbody tr th {\n        vertical-align: top;\n    }\n\n    .dataframe thead th {\n        text-align: right;\n    }\n</style>\n<table border=\"1\" class=\"dataframe\">\n  <thead>\n    <tr style=\"text-align: right;\">\n      <th></th>\n      <th>date_crawled</th>\n      <th>name</th>\n      <th>seller</th>\n      <th>offer_type</th>\n      <th>price</th>\n      <th>abtest</th>\n      <th>vehicle_type</th>\n      <th>year_of_registration</th>\n      <th>gearbox</th>\n      <th>power_pS</th>\n      <th>model</th>\n      <th>odometer_km</th>\n      <th>month_of_registration</th>\n      <th>fuel_type</th>\n      <th>brand</th>\n      <th>not_repaired_damage</th>\n      <th>date_created</th>\n      <th>nr_of_pictures</th>\n      <th>postal_code</th>\n      <th>last_seen</th>\n    </tr>\n  </thead>\n  <tbody>\n    <tr>\n      <th>0</th>\n      <td>2016-03-26 17:47:46</td>\n      <td>Peugeot_807_160_NAVTECH_ON_BOARD</td>\n      <td>privat</td>\n      <td>Angebot</td>\n      <td>5000.0</td>\n      <td>control</td>\n      <td>bus</td>\n      <td>2004</td>\n      <td>manuell</td>\n      <td>158</td>\n      <td>andere</td>\n      <td>150000.0</td>\n      <td>3</td>\n      <td>lpg</td>\n      <td>peugeot</td>\n      <td>nein</td>\n      <td>2016-03-26 00:00:00</td>\n      <td>0</td>\n      <td>79588</td>\n      <td>2016-04-06 06:45:54</td>\n    </tr>\n    <tr>\n      <th>1</th>\n      <td>2016-04-04 13:38:56</td>\n      <td>BMW_740i_4_4_Liter_HAMANN_UMBAU_Mega_Optik</td>\n      <td>privat</td>\n      <td>Angebot</td>\n      <td>8500.0</td>\n      <td>control</td>\n      <td>limousine</td>\n      <td>1997</td>\n      <td>automatik</td>\n      <td>286</td>\n      <td>7er</td>\n      <td>150000.0</td>\n      <td>6</td>\n      <td>benzin</td>\n      <td>bmw</td>\n      <td>nein</td>\n      <td>2016-04-04 00:00:00</td>\n      <td>0</td>\n      <td>71034</td>\n      <td>2016-04-06 14:45:08</td>\n    </tr>\n    <tr>\n      <th>2</th>\n      <td>2016-03-26 18:57:24</td>\n      <td>Volkswagen_Golf_1.6_United</td>\n      <td>privat</td>\n      <td>Angebot</td>\n      <td>8990.0</td>\n      <td>test</td>\n      <td>limousine</td>\n      <td>2009</td>\n      <td>manuell</td>\n      <td>102</td>\n      <td>golf</td>\n      <td>70000.0</td>\n      <td>7</td>\n      <td>benzin</td>\n      <td>volkswagen</td>\n      <td>nein</td>\n      <td>2016-03-26 00:00:00</td>\n      <td>0</td>\n      <td>35394</td>\n      <td>2016-04-06 20:15:37</td>\n    </tr>\n    <tr>\n      <th>3</th>\n      <td>2016-03-12 16:58:10</td>\n      <td>Smart_smart_fortwo_coupe_softouch/F1/Klima/Pan...</td>\n      <td>privat</td>\n      <td>Angebot</td>\n      <td>4350.0</td>\n      <td>control</td>\n      <td>kleinwagen</td>\n      <td>2007</td>\n      <td>automatik</td>\n      <td>71</td>\n      <td>fortwo</td>\n      <td>70000.0</td>\n      <td>6</td>\n      <td>benzin</td>\n      <td>smart</td>\n      <td>nein</td>\n      <td>2016-03-12 00:00:00</td>\n      <td>0</td>\n      <td>33729</td>\n      <td>2016-03-15 03:16:28</td>\n    </tr>\n    <tr>\n      <th>4</th>\n      <td>2016-04-01 14:38:50</td>\n      <td>Ford_Focus_1_6_Benzin_TÜV_neu_ist_sehr_gepfleg...</td>\n      <td>privat</td>\n      <td>Angebot</td>\n      <td>1350.0</td>\n      <td>test</td>\n      <td>kombi</td>\n      <td>2003</td>\n      <td>manuell</td>\n      <td>0</td>\n      <td>focus</td>\n      <td>150000.0</td>\n      <td>7</td>\n      <td>benzin</td>\n      <td>ford</td>\n      <td>nein</td>\n      <td>2016-04-01 00:00:00</td>\n      <td>0</td>\n      <td>39218</td>\n      <td>2016-04-01 14:38:50</td>\n    </tr>\n  </tbody>\n</table>\n</div>"
     },
     "metadata": {},
     "execution_count": 18
    }
   ],
   "source": [
    "autos.head()"
   ]
  },
  {
   "cell_type": "code",
   "execution_count": 19,
   "metadata": {
    "collapsed": false
   },
   "outputs": [
    {
     "output_type": "execute_result",
     "data": {
      "text/plain": [
       "          date_crawled         date_created            last_seen\n",
       "0  2016-03-26 17:47:46  2016-03-26 00:00:00  2016-04-06 06:45:54\n",
       "1  2016-04-04 13:38:56  2016-04-04 00:00:00  2016-04-06 14:45:08\n",
       "2  2016-03-26 18:57:24  2016-03-26 00:00:00  2016-04-06 20:15:37\n",
       "3  2016-03-12 16:58:10  2016-03-12 00:00:00  2016-03-15 03:16:28\n",
       "4  2016-04-01 14:38:50  2016-04-01 00:00:00  2016-04-01 14:38:50"
      ],
      "text/html": "<div>\n<style scoped>\n    .dataframe tbody tr th:only-of-type {\n        vertical-align: middle;\n    }\n\n    .dataframe tbody tr th {\n        vertical-align: top;\n    }\n\n    .dataframe thead th {\n        text-align: right;\n    }\n</style>\n<table border=\"1\" class=\"dataframe\">\n  <thead>\n    <tr style=\"text-align: right;\">\n      <th></th>\n      <th>date_crawled</th>\n      <th>date_created</th>\n      <th>last_seen</th>\n    </tr>\n  </thead>\n  <tbody>\n    <tr>\n      <th>0</th>\n      <td>2016-03-26 17:47:46</td>\n      <td>2016-03-26 00:00:00</td>\n      <td>2016-04-06 06:45:54</td>\n    </tr>\n    <tr>\n      <th>1</th>\n      <td>2016-04-04 13:38:56</td>\n      <td>2016-04-04 00:00:00</td>\n      <td>2016-04-06 14:45:08</td>\n    </tr>\n    <tr>\n      <th>2</th>\n      <td>2016-03-26 18:57:24</td>\n      <td>2016-03-26 00:00:00</td>\n      <td>2016-04-06 20:15:37</td>\n    </tr>\n    <tr>\n      <th>3</th>\n      <td>2016-03-12 16:58:10</td>\n      <td>2016-03-12 00:00:00</td>\n      <td>2016-03-15 03:16:28</td>\n    </tr>\n    <tr>\n      <th>4</th>\n      <td>2016-04-01 14:38:50</td>\n      <td>2016-04-01 00:00:00</td>\n      <td>2016-04-01 14:38:50</td>\n    </tr>\n  </tbody>\n</table>\n</div>"
     },
     "metadata": {},
     "execution_count": 19
    }
   ],
   "source": [
    "autos[['date_crawled','date_created','last_seen']][0:5]"
   ]
  },
  {
   "cell_type": "code",
   "execution_count": 20,
   "metadata": {
    "collapsed": false
   },
   "outputs": [
    {
     "output_type": "execute_result",
     "data": {
      "text/plain": [
       "2016-03-05 14:06:30    0.000021\n",
       "2016-03-05 14:06:40    0.000021\n",
       "2016-03-05 14:07:04    0.000021\n",
       "2016-03-05 14:07:08    0.000021\n",
       "2016-03-05 14:07:21    0.000021\n",
       "                         ...   \n",
       "2016-04-07 14:30:09    0.000021\n",
       "2016-04-07 14:30:26    0.000021\n",
       "2016-04-07 14:36:44    0.000021\n",
       "2016-04-07 14:36:55    0.000021\n",
       "2016-04-07 14:36:56    0.000021\n",
       "Name: date_crawled, Length: 46578, dtype: float64"
      ]
     },
     "metadata": {},
     "execution_count": 20
    }
   ],
   "source": [
    "autos[\"date_crawled\"].value_counts(normalize=True,dropna=False).sort_index()"
   ]
  },
  {
   "cell_type": "code",
   "execution_count": 21,
   "metadata": {
    "collapsed": false
   },
   "outputs": [
    {
     "output_type": "execute_result",
     "data": {
      "text/plain": [
       "2015-06-11 00:00:00    0.000021\n",
       "2015-08-10 00:00:00    0.000021\n",
       "2015-09-09 00:00:00    0.000021\n",
       "2015-11-10 00:00:00    0.000021\n",
       "2015-12-05 00:00:00    0.000021\n",
       "                         ...   \n",
       "2016-04-03 00:00:00    0.038855\n",
       "2016-04-04 00:00:00    0.036926\n",
       "2016-04-05 00:00:00    0.011797\n",
       "2016-04-06 00:00:00    0.003255\n",
       "2016-04-07 00:00:00    0.001244\n",
       "Name: date_created, Length: 76, dtype: float64"
      ]
     },
     "metadata": {},
     "execution_count": 21
    }
   ],
   "source": [
    "autos[\"date_created\"].value_counts(normalize=True,dropna=False).sort_index()"
   ]
  },
  {
   "cell_type": "code",
   "execution_count": 22,
   "metadata": {
    "collapsed": false
   },
   "outputs": [
    {
     "output_type": "execute_result",
     "data": {
      "text/plain": [
       "2016-03-05 14:45:46    0.000021\n",
       "2016-03-05 14:46:02    0.000021\n",
       "2016-03-05 14:49:34    0.000021\n",
       "2016-03-05 15:16:11    0.000021\n",
       "2016-03-05 15:16:47    0.000021\n",
       "                         ...   \n",
       "2016-04-07 14:58:44    0.000062\n",
       "2016-04-07 14:58:45    0.000021\n",
       "2016-04-07 14:58:46    0.000021\n",
       "2016-04-07 14:58:48    0.000062\n",
       "2016-04-07 14:58:50    0.000062\n",
       "Name: last_seen, Length: 38237, dtype: float64"
      ]
     },
     "metadata": {},
     "execution_count": 22
    }
   ],
   "source": [
    "autos[\"last_seen\"].value_counts(normalize=True,dropna=False).sort_index()"
   ]
  },
  {
   "cell_type": "markdown",
   "metadata": {},
   "source": [
    "Most of the cars were added in year 2015 and not get sold for 1 year "
   ]
  },
  {
   "cell_type": "code",
   "execution_count": 23,
   "metadata": {
    "collapsed": false
   },
   "outputs": [
    {
     "output_type": "execute_result",
     "data": {
      "text/plain": [
       "count    48231.000000\n",
       "mean      2004.728867\n",
       "std         87.891383\n",
       "min       1000.000000\n",
       "25%       1999.000000\n",
       "50%       2004.000000\n",
       "75%       2008.000000\n",
       "max       9999.000000\n",
       "Name: year_of_registration, dtype: float64"
      ]
     },
     "metadata": {},
     "execution_count": 23
    }
   ],
   "source": [
    "autos[\"year_of_registration\"].describe()"
   ]
  },
  {
   "cell_type": "markdown",
   "metadata": {},
   "source": [
    "This registration year's min value is 1000 and max is 9999 which is the wrong data because at that time the car was invented i.e before 19th cetury and current year is 2020 so we cannot have the registration of cars of future because they are not made yet , so these row data is redundent.\n",
    "\n",
    "So we would select the year the data range of registration year from 1900-2020"
   ]
  },
  {
   "cell_type": "code",
   "execution_count": 24,
   "metadata": {
    "collapsed": true
   },
   "outputs": [],
   "source": [
    "autos=autos[autos[\"year_of_registration\"].between(1900,2020)]"
   ]
  },
  {
   "cell_type": "code",
   "execution_count": 25,
   "metadata": {
    "collapsed": false
   },
   "outputs": [
    {
     "output_type": "execute_result",
     "data": {
      "text/plain": [
       "2000    0.064382\n",
       "2005    0.060379\n",
       "1999    0.059736\n",
       "2004    0.055982\n",
       "2003    0.055857\n",
       "          ...   \n",
       "1929    0.000021\n",
       "1939    0.000021\n",
       "1938    0.000021\n",
       "1931    0.000021\n",
       "1952    0.000021\n",
       "Name: year_of_registration, Length: 81, dtype: float64"
      ]
     },
     "metadata": {},
     "execution_count": 25
    }
   ],
   "source": [
    "autos[\"year_of_registration\"].value_counts(normalize=True)"
   ]
  },
  {
   "cell_type": "code",
   "execution_count": 26,
   "metadata": {
    "collapsed": true
   },
   "outputs": [],
   "source": [
    "brand=autos[\"brand\"].unique()"
   ]
  },
  {
   "cell_type": "markdown",
   "metadata": {},
   "source": [
    "Now we will understand the price scenario of different brands , that how much average price of a particular brand is their. \n",
    "I am selecting the top 20 brands of cars which are more in number and then we use aggregation on those brands to their average price."
   ]
  },
  {
   "cell_type": "code",
   "execution_count": 27,
   "metadata": {
    "collapsed": false
   },
   "outputs": [
    {
     "output_type": "execute_result",
     "data": {
      "text/plain": [
       "Index(['volkswagen', 'bmw', 'opel', 'mercedes_benz', 'audi', 'ford', 'renault',\n",
       "       'peugeot', 'fiat', 'seat', 'skoda', 'nissan', 'mazda', 'smart',\n",
       "       'citroen', 'toyota', 'hyundai', 'sonstige_autos', 'volvo', 'mini'],\n",
       "      dtype='object')"
      ]
     },
     "metadata": {},
     "execution_count": 27
    }
   ],
   "source": [
    "bd=autos[\"brand\"].value_counts().head(20).index\n",
    "bd"
   ]
  },
  {
   "cell_type": "code",
   "execution_count": 28,
   "metadata": {
    "collapsed": false,
    "scrolled": true
   },
   "outputs": [
    {
     "output_type": "execute_result",
     "data": {
      "text/plain": [
       "{'volkswagen': 5559.968156587788,\n",
       " 'bmw': 8543.978260869566,\n",
       " 'opel': 2971.6082375478927,\n",
       " 'mercedes_benz': 8570.76869865975,\n",
       " 'audi': 9259.510248372317,\n",
       " 'ford': 4053.7575215966635,\n",
       " 'renault': 2450.9015611448394,\n",
       " 'peugeot': 3086.930281690141,\n",
       " 'fiat': 2815.635782747604,\n",
       " 'seat': 4353.146929824561,\n",
       " 'skoda': 6394.309677419355,\n",
       " 'nissan': 4681.94046008119,\n",
       " 'mazda': 4075.319293478261,\n",
       " 'smart': 3538.344927536232,\n",
       " 'citroen': 3777.854625550661,\n",
       " 'toyota': 5148.0032733224225,\n",
       " 'hyundai': 5416.23382045929,\n",
       " 'sonstige_autos': 45941.48791208791,\n",
       " 'volvo': 4911.680459770115,\n",
       " 'mini': 10566.824940047962}"
      ]
     },
     "metadata": {},
     "execution_count": 28
    }
   ],
   "source": [
    "brand_price={}\n",
    "for c in bd:\n",
    "    mn=autos.loc[autos[\"brand\"]==c,\"price\"]\n",
    "    mn=mn.mean()\n",
    "    brand_price[c]=mn\n",
    "    \n",
    "brand_price"
   ]
  },
  {
   "cell_type": "markdown",
   "metadata": {},
   "source": [
    "The sonstigue_autos is the most expensive brand that is to sold in the market and then on 2nd is mini . "
   ]
  },
  {
   "cell_type": "code",
   "execution_count": 29,
   "metadata": {
    "collapsed": false
   },
   "outputs": [],
   "source": [
    "mean_mileage={}\n",
    "for c in brand_price:\n",
    "    row=autos.loc[autos[\"brand\"]==c,\"odometer_km\"]\n",
    "    row=row.mean()\n",
    "    mean_mileage[c]=row"
   ]
  },
  {
   "cell_type": "code",
   "execution_count": 30,
   "metadata": {
    "collapsed": false
   },
   "outputs": [
    {
     "output_type": "execute_result",
     "data": {
      "text/plain": [
       "{'volkswagen': 129060.27850813128,\n",
       " 'bmw': 132827.99389778794,\n",
       " 'opel': 129512.45210727969,\n",
       " 'mercedes_benz': 131079.76653696498,\n",
       " 'audi': 129604.53339763684,\n",
       " 'ford': 124361.03663985702,\n",
       " 'renault': 128261.05810928014,\n",
       " 'peugeot': 127316.9014084507,\n",
       " 'fiat': 117408.14696485623,\n",
       " 'seat': 122149.12280701754,\n",
       " 'skoda': 111051.6129032258,\n",
       " 'nissan': 118707.71312584574,\n",
       " 'mazda': 124959.23913043478,\n",
       " 'smart': 100833.33333333333,\n",
       " 'citroen': 119985.31571218796,\n",
       " 'toyota': 116219.31260229132,\n",
       " 'hyundai': 107150.31315240083,\n",
       " 'sonstige_autos': 90912.08791208791,\n",
       " 'volvo': 138839.0804597701,\n",
       " 'mini': 89100.71942446043}"
      ]
     },
     "metadata": {},
     "execution_count": 30
    }
   ],
   "source": [
    "   mean_mileage"
   ]
  },
  {
   "cell_type": "code",
   "execution_count": 31,
   "metadata": {
    "collapsed": false
   },
   "outputs": [],
   "source": [
    "new=pd.Series(mean_mileage,index=mean_mileage.keys())"
   ]
  },
  {
   "cell_type": "code",
   "execution_count": 32,
   "metadata": {
    "collapsed": true
   },
   "outputs": [],
   "source": [
    "new_p=pd.Series(brand_price,index=mean_mileage.keys())"
   ]
  },
  {
   "cell_type": "code",
   "execution_count": 33,
   "metadata": {
    "collapsed": false
   },
   "outputs": [],
   "source": [
    "df=pd.DataFrame(new_p,columns=['mean_price'])"
   ]
  },
  {
   "cell_type": "code",
   "execution_count": 34,
   "metadata": {
    "collapsed": false
   },
   "outputs": [
    {
     "output_type": "execute_result",
     "data": {
      "text/plain": [
       "                  mean_price\n",
       "volkswagen       5559.968157\n",
       "bmw              8543.978261\n",
       "opel             2971.608238\n",
       "mercedes_benz    8570.768699\n",
       "audi             9259.510248\n",
       "ford             4053.757522\n",
       "renault          2450.901561\n",
       "peugeot          3086.930282\n",
       "fiat             2815.635783\n",
       "seat             4353.146930\n",
       "skoda            6394.309677\n",
       "nissan           4681.940460\n",
       "mazda            4075.319293\n",
       "smart            3538.344928\n",
       "citroen          3777.854626\n",
       "toyota           5148.003273\n",
       "hyundai          5416.233820\n",
       "sonstige_autos  45941.487912\n",
       "volvo            4911.680460\n",
       "mini            10566.824940"
      ],
      "text/html": "<div>\n<style scoped>\n    .dataframe tbody tr th:only-of-type {\n        vertical-align: middle;\n    }\n\n    .dataframe tbody tr th {\n        vertical-align: top;\n    }\n\n    .dataframe thead th {\n        text-align: right;\n    }\n</style>\n<table border=\"1\" class=\"dataframe\">\n  <thead>\n    <tr style=\"text-align: right;\">\n      <th></th>\n      <th>mean_price</th>\n    </tr>\n  </thead>\n  <tbody>\n    <tr>\n      <th>volkswagen</th>\n      <td>5559.968157</td>\n    </tr>\n    <tr>\n      <th>bmw</th>\n      <td>8543.978261</td>\n    </tr>\n    <tr>\n      <th>opel</th>\n      <td>2971.608238</td>\n    </tr>\n    <tr>\n      <th>mercedes_benz</th>\n      <td>8570.768699</td>\n    </tr>\n    <tr>\n      <th>audi</th>\n      <td>9259.510248</td>\n    </tr>\n    <tr>\n      <th>ford</th>\n      <td>4053.757522</td>\n    </tr>\n    <tr>\n      <th>renault</th>\n      <td>2450.901561</td>\n    </tr>\n    <tr>\n      <th>peugeot</th>\n      <td>3086.930282</td>\n    </tr>\n    <tr>\n      <th>fiat</th>\n      <td>2815.635783</td>\n    </tr>\n    <tr>\n      <th>seat</th>\n      <td>4353.146930</td>\n    </tr>\n    <tr>\n      <th>skoda</th>\n      <td>6394.309677</td>\n    </tr>\n    <tr>\n      <th>nissan</th>\n      <td>4681.940460</td>\n    </tr>\n    <tr>\n      <th>mazda</th>\n      <td>4075.319293</td>\n    </tr>\n    <tr>\n      <th>smart</th>\n      <td>3538.344928</td>\n    </tr>\n    <tr>\n      <th>citroen</th>\n      <td>3777.854626</td>\n    </tr>\n    <tr>\n      <th>toyota</th>\n      <td>5148.003273</td>\n    </tr>\n    <tr>\n      <th>hyundai</th>\n      <td>5416.233820</td>\n    </tr>\n    <tr>\n      <th>sonstige_autos</th>\n      <td>45941.487912</td>\n    </tr>\n    <tr>\n      <th>volvo</th>\n      <td>4911.680460</td>\n    </tr>\n    <tr>\n      <th>mini</th>\n      <td>10566.824940</td>\n    </tr>\n  </tbody>\n</table>\n</div>"
     },
     "metadata": {},
     "execution_count": 34
    }
   ],
   "source": [
    "df"
   ]
  },
  {
   "cell_type": "code",
   "execution_count": 35,
   "metadata": {
    "collapsed": false
   },
   "outputs": [],
   "source": [
    "df[\"mileage\"]=new"
   ]
  },
  {
   "cell_type": "code",
   "execution_count": 36,
   "metadata": {
    "collapsed": false
   },
   "outputs": [
    {
     "output_type": "execute_result",
     "data": {
      "text/plain": [
       "                  mean_price        mileage\n",
       "volkswagen       5559.968157  129060.278508\n",
       "bmw              8543.978261  132827.993898\n",
       "opel             2971.608238  129512.452107\n",
       "mercedes_benz    8570.768699  131079.766537\n",
       "audi             9259.510248  129604.533398\n",
       "ford             4053.757522  124361.036640\n",
       "renault          2450.901561  128261.058109\n",
       "peugeot          3086.930282  127316.901408\n",
       "fiat             2815.635783  117408.146965\n",
       "seat             4353.146930  122149.122807\n",
       "skoda            6394.309677  111051.612903\n",
       "nissan           4681.940460  118707.713126\n",
       "mazda            4075.319293  124959.239130\n",
       "smart            3538.344928  100833.333333\n",
       "citroen          3777.854626  119985.315712\n",
       "toyota           5148.003273  116219.312602\n",
       "hyundai          5416.233820  107150.313152\n",
       "sonstige_autos  45941.487912   90912.087912\n",
       "volvo            4911.680460  138839.080460\n",
       "mini            10566.824940   89100.719424"
      ],
      "text/html": "<div>\n<style scoped>\n    .dataframe tbody tr th:only-of-type {\n        vertical-align: middle;\n    }\n\n    .dataframe tbody tr th {\n        vertical-align: top;\n    }\n\n    .dataframe thead th {\n        text-align: right;\n    }\n</style>\n<table border=\"1\" class=\"dataframe\">\n  <thead>\n    <tr style=\"text-align: right;\">\n      <th></th>\n      <th>mean_price</th>\n      <th>mileage</th>\n    </tr>\n  </thead>\n  <tbody>\n    <tr>\n      <th>volkswagen</th>\n      <td>5559.968157</td>\n      <td>129060.278508</td>\n    </tr>\n    <tr>\n      <th>bmw</th>\n      <td>8543.978261</td>\n      <td>132827.993898</td>\n    </tr>\n    <tr>\n      <th>opel</th>\n      <td>2971.608238</td>\n      <td>129512.452107</td>\n    </tr>\n    <tr>\n      <th>mercedes_benz</th>\n      <td>8570.768699</td>\n      <td>131079.766537</td>\n    </tr>\n    <tr>\n      <th>audi</th>\n      <td>9259.510248</td>\n      <td>129604.533398</td>\n    </tr>\n    <tr>\n      <th>ford</th>\n      <td>4053.757522</td>\n      <td>124361.036640</td>\n    </tr>\n    <tr>\n      <th>renault</th>\n      <td>2450.901561</td>\n      <td>128261.058109</td>\n    </tr>\n    <tr>\n      <th>peugeot</th>\n      <td>3086.930282</td>\n      <td>127316.901408</td>\n    </tr>\n    <tr>\n      <th>fiat</th>\n      <td>2815.635783</td>\n      <td>117408.146965</td>\n    </tr>\n    <tr>\n      <th>seat</th>\n      <td>4353.146930</td>\n      <td>122149.122807</td>\n    </tr>\n    <tr>\n      <th>skoda</th>\n      <td>6394.309677</td>\n      <td>111051.612903</td>\n    </tr>\n    <tr>\n      <th>nissan</th>\n      <td>4681.940460</td>\n      <td>118707.713126</td>\n    </tr>\n    <tr>\n      <th>mazda</th>\n      <td>4075.319293</td>\n      <td>124959.239130</td>\n    </tr>\n    <tr>\n      <th>smart</th>\n      <td>3538.344928</td>\n      <td>100833.333333</td>\n    </tr>\n    <tr>\n      <th>citroen</th>\n      <td>3777.854626</td>\n      <td>119985.315712</td>\n    </tr>\n    <tr>\n      <th>toyota</th>\n      <td>5148.003273</td>\n      <td>116219.312602</td>\n    </tr>\n    <tr>\n      <th>hyundai</th>\n      <td>5416.233820</td>\n      <td>107150.313152</td>\n    </tr>\n    <tr>\n      <th>sonstige_autos</th>\n      <td>45941.487912</td>\n      <td>90912.087912</td>\n    </tr>\n    <tr>\n      <th>volvo</th>\n      <td>4911.680460</td>\n      <td>138839.080460</td>\n    </tr>\n    <tr>\n      <th>mini</th>\n      <td>10566.824940</td>\n      <td>89100.719424</td>\n    </tr>\n  </tbody>\n</table>\n</div>"
     },
     "metadata": {},
     "execution_count": 36
    }
   ],
   "source": [
    "df"
   ]
  },
  {
   "cell_type": "markdown",
   "metadata": {},
   "source": [
    "BMW, Mercedes and mini are the kings of the German auto ebay market. They have the 3 most popular and three most expensive car brands on average. With adui as the fourth most popular it is clear that Germans like to buy German.\n",
    "\n",
    "Mileage has a significant affect on the price of vehicles. The more miles on the clock, the less expensive the car will tend to be."
   ]
  },
  {
   "cell_type": "code",
   "execution_count": null,
   "metadata": {},
   "outputs": [],
   "source": []
  }
 ],
 "metadata": {
  "kernelspec": {
   "display_name": "Python 3",
   "language": "python",
   "name": "python3"
  },
  "language_info": {
   "codemirror_mode": {
    "name": "ipython",
    "version": 3
   },
   "file_extension": ".py",
   "mimetype": "text/x-python",
   "name": "python",
   "nbconvert_exporter": "python",
   "pygments_lexer": "ipython3",
   "version": "3.7.9-final"
  }
 },
 "nbformat": 4,
 "nbformat_minor": 2
}